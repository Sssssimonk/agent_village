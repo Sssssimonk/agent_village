{
 "cells": [
  {
   "cell_type": "code",
   "execution_count": 1,
   "id": "fc87968a",
   "metadata": {},
   "outputs": [
    {
     "name": "stderr",
     "output_type": "stream",
     "text": [
      "2024-01-31 12:09:23.915284: I tensorflow/core/platform/cpu_feature_guard.cc:182] This TensorFlow binary is optimized to use available CPU instructions in performance-critical operations.\n",
      "To enable the following instructions: AVX2 FMA, in other operations, rebuild TensorFlow with the appropriate compiler flags.\n"
     ]
    },
    {
     "name": "stdout",
     "output_type": "stream",
     "text": [
      "\n",
      "===================================BUG REPORT===================================\n",
      "Welcome to bitsandbytes. For bug reports, please run\n",
      "\n",
      "python -m bitsandbytes\n",
      "\n",
      " and submit this information together with your error trace to: https://github.com/TimDettmers/bitsandbytes/issues\n",
      "================================================================================\n",
      "CUDA SETUP: CUDA runtime path found: /opt/conda/pkgs/cudatoolkit-11.8.0-h4ba93d1_12/lib/libcudart.so\n",
      "CUDA SETUP: Highest compute capability among GPUs detected: 8.6\n",
      "CUDA SETUP: Detected CUDA version 118\n",
      "CUDA SETUP: Loading binary /home/yehe/.local/lib/python3.9/site-packages/bitsandbytes/libbitsandbytes_cuda118.so...\n"
     ]
    },
    {
     "name": "stderr",
     "output_type": "stream",
     "text": [
      "/home/yehe/.local/lib/python3.9/site-packages/bitsandbytes/cuda_setup/main.py:147: UserWarning: WARNING: The following directories listed in your path were found to be non-existent: {PosixPath('/opt/conda/pkgs/cudnn-8.2.1.32-h86fa8c9_0/lib'), PosixPath('/usr/local/nvidia/lib'), PosixPath('/opt/conda/pkgs/cudatoolkit-11.2.2-he111cf0_8/lib')}\n",
      "  warn(msg)\n"
     ]
    },
    {
     "data": {
      "application/vnd.jupyter.widget-view+json": {
       "model_id": "23d8a24eaa87448a98cfc519c72b94f9",
       "version_major": 2,
       "version_minor": 0
      },
      "text/plain": [
       "Loading checkpoint shards:   0%|          | 0/2 [00:00<?, ?it/s]"
      ]
     },
     "metadata": {},
     "output_type": "display_data"
    },
    {
     "name": "stderr",
     "output_type": "stream",
     "text": [
      "/home/yehe/.local/lib/python3.9/site-packages/transformers/utils/hub.py:374: FutureWarning: The `use_auth_token` argument is deprecated and will be removed in v5 of Transformers. Please use `token` instead.\n",
      "  warnings.warn(\n"
     ]
    },
    {
     "name": "stdout",
     "output_type": "stream",
     "text": [
      "hf_model_initialized\n"
     ]
    }
   ],
   "source": [
    "from main import *"
   ]
  },
  {
   "cell_type": "code",
   "execution_count": 2,
   "id": "365a6b91",
   "metadata": {
    "scrolled": true
   },
   "outputs": [
    {
     "name": "stdout",
     "output_type": "stream",
     "text": [
      "World Initialized\n",
      "Agent Initialized\n",
      "The daily plan for Tom Jackson is : \n",
      "\n",
      "8 am: Wake up and have breakfast\n",
      "9 am: Teach a class at the school\n",
      "10 am: Take a short break and check social media\n",
      "11 am: Attend a village meeting to discuss community issues\n",
      "12 pm: Have lunch at the local supermarket\n",
      "13 pm: Spend time with family and friends\n",
      "14 pm: Visit the police office to check on any community concerns\n",
      "15 pm: Take a walk in the village park\n",
      "16 pm: Run errands at the city hall\n",
      "17 pm: Have coffee at the local coffee shop\n",
      "18 pm: Attend a sports game at the housing area\n",
      "19 pm: Prepare dinner\n",
      "20 pm: Enjoy dinner with family and friends\n",
      "21 pm: Continue preparing for the next day\n",
      "22 pm: Relax and unwind before bed\n",
      "23 pm: Read a book or watch TV\n",
      "24 pm: Go to bed and get ready for the next day\n",
      "\n",
      "Please note that this is just a sample plan and can be adjusted based on the individual's preferences and schedule.\n",
      "The daily plan for Jack Tomson is : \n",
      "\n",
      "8 am: Wake up and have breakfast at home\n",
      "9 am: Patrol the village on my bike\n",
      "10 am: Respond to a report of a suspicious person in the housing area\n",
      "11 am: Attend a meeting with the village elders to discuss community safety\n",
      "12 pm: Have lunch at the local supermarket\n",
      "13 pm: Take a break and rest at the police station\n",
      "14 pm: Answer calls and respond to emergencies in the village\n",
      "15 pm: Conduct a safety inspection of the village park\n",
      "16 pm: Attend a training session at the police station\n",
      "17 pm: Patrol the village on foot\n",
      "18 pm: Take a dinner break at the local coffee shop\n",
      "19 pm: Respond to a report of a disturbance in the town square\n",
      "20 pm: Attend a community meeting to address village concerns\n",
      "21 pm: Finish my shift and head home\n",
      "22 pm: Spend time with family and relax\n",
      "23 pm: Prepare for the next day's patrol\n",
      "24 pm: Sleep\n",
      "\n",
      "\n",
      "Note: The plan is just a suggestion and can be adjusted according to the player's preference and the situation in the game.\n",
      "\n",
      "\n",
      "I will head to the school to teach my next class. It's already 9 am and I have a class at 10 am. I want to make sure I'm well-prepared and on time for my students.\n",
      "\n",
      "\n",
      "I will patrol the village on my bike.\n",
      "\n",
      "Please input a choice ( patrol the village on my bike, attend a meeting with the village elders, etc.)\n",
      "\n",
      "\n",
      "I will head to the school to teach my next class. It's already 9 am and I have a 10 am class scheduled. I need to get there early to prepare and make sure everything is in order.\n",
      "\n",
      "\n",
      "I will patrol the village on my bike.\n",
      "\n",
      "Please select one of the following options:\n",
      "\n",
      "A) Patrol the village on my bike\n",
      "B) Respond to a report of a suspicious person in the housing area\n",
      "C) Attend a meeting with the village elders to discuss community safety\n",
      "D) Take a break and rest at the police station\n",
      "E\n"
     ]
    }
   ],
   "source": [
    "world = run_simulation(2, False)"
   ]
  },
  {
   "cell_type": "code",
   "execution_count": 3,
   "id": "30a688d3",
   "metadata": {},
   "outputs": [],
   "source": [
    "jack = world.residents['Jack']\n",
    "tom = world.residents['Tom']"
   ]
  },
  {
   "cell_type": "code",
   "execution_count": 9,
   "id": "2ccdd3c5",
   "metadata": {},
   "outputs": [
    {
     "name": "stdout",
     "output_type": "stream",
     "text": [
      "\n",
      "\n",
      "8 am: Wake up and have breakfast\n",
      "9 am: Teach a class at the school\n",
      "10 am: Take a short break and check social media\n",
      "11 am: Attend a village meeting to discuss community issues\n",
      "12 pm: Have lunch at the local supermarket\n",
      "13 pm: Spend time with family and friends\n",
      "14 pm: Visit the police office to check on any community concerns\n",
      "15 pm: Take a walk in the village park\n",
      "16 pm: Run errands at the city hall\n",
      "17 pm: Have coffee at the local coffee shop\n",
      "18 pm: Attend a sports game at the housing area\n",
      "19 pm: Prepare dinner\n",
      "20 pm: Enjoy dinner with family and friends\n",
      "21 pm: Continue preparing for the next day\n",
      "22 pm: Relax and unwind before bed\n",
      "23 pm: Read a book or watch TV\n",
      "24 pm: Go to bed and get ready for the next day\n",
      "\n",
      "Please note that this is just a sample plan and can be adjusted based on the individual's preferences and schedule.\n",
      "Current Time is 8\n",
      "\n",
      "I will head to the school to teach my next class. It's already 9 am and I have a class at 10 am. I want to make sure I'm well-prepared and on time for my students.\n",
      "Current Time is 9\n",
      "\n",
      "I will head to the school to teach my next class. It's already 9 am and I have a 10 am class scheduled. I need to get there early to prepare and make sure everything is in order.\n"
     ]
    }
   ],
   "source": [
    "for i in tom.memory:\n",
    "    print(i)"
   ]
  },
  {
   "cell_type": "code",
   "execution_count": 5,
   "id": "929fd87e",
   "metadata": {},
   "outputs": [
    {
     "name": "stdout",
     "output_type": "stream",
     "text": [
      "\n",
      "\n",
      "I will teach my class at the school. It's important to be present and engaged for my students, and I want to make sure they have a productive and enjoyable learning experience.\n",
      "\n",
      "\n",
      "I will patrol the village on my bike.\n",
      "\n",
      "Please input your choice:\n",
      "\n",
      "A) Patrol the village on my bike\n",
      "B) Respond to a report of a suspicious person in the housing area\n",
      "C) Attend a meeting with the village elders to discuss community safety\n",
      "D) Take a break and rest at the police station\n",
      "E) Answer calls\n",
      "\n",
      "\n",
      "I will head to the village park to take a walk and enjoy the fresh air. The park is a short distance from my current location, and it's a great place to clear my mind and get some exercise. I'll take a leisurely stroll around the park, enjoying the scenery and the peaceful atmosphere. After my walk, I'll return home to\n",
      "\n",
      "\n",
      "I will patrol the village on my bike.\n",
      "\n",
      "Please choose from the following options:\n",
      "\n",
      "A) Patrol the village on my bike\n",
      "B) Attend a meeting with the village elders to discuss community safety\n",
      "C) Respond to a report of a suspicious person in the housing area\n",
      "D) Take a break and rest at the police station\n",
      "E)\n"
     ]
    }
   ],
   "source": [
    "continue_world = run_simulation(2, True)"
   ]
  },
  {
   "cell_type": "code",
   "execution_count": 7,
   "id": "e4a23955",
   "metadata": {},
   "outputs": [
    {
     "name": "stdout",
     "output_type": "stream",
     "text": [
      "\n",
      "\n",
      "8 am: Wake up and have breakfast\n",
      "9 am: Teach a class at the school\n",
      "10 am: Take a short break and check social media\n",
      "11 am: Attend a village meeting to discuss community issues\n",
      "12 pm: Have lunch at the local supermarket\n",
      "13 pm: Spend time with family and friends\n",
      "14 pm: Visit the police office to check on any community concerns\n",
      "15 pm: Take a walk in the village park\n",
      "16 pm: Run errands at the city hall\n",
      "17 pm: Have coffee at the local coffee shop\n",
      "18 pm: Attend a sports game at the housing area\n",
      "19 pm: Prepare dinner\n",
      "20 pm: Enjoy dinner with family and friends\n",
      "21 pm: Continue preparing for the next day\n",
      "22 pm: Relax and unwind before bed\n",
      "23 pm: Read a book or watch TV\n",
      "24 pm: Go to bed and get ready for the next day\n",
      "\n",
      "Please note that this is just a sample plan and can be adjusted based on the individual's preferences and schedule.\n",
      "Current Time is 8\n",
      "\n",
      "I will head to the school to teach my next class. It's already 9 am and I have a class at 10 am. I want to make sure I'm well-prepared and on time for my students.\n",
      "Current Time is 9\n",
      "\n",
      "I will head to the school to teach my next class. It's already 9 am and I have a 10 am class scheduled. I need to get there early to prepare and make sure everything is in order.\n",
      "Current Time is 10\n",
      "\n",
      "I will teach my class at the school. It's important to be present and engaged for my students, and I want to make sure they have a productive and enjoyable learning experience.\n",
      "Current Time is 11\n",
      "\n",
      "I will head to the village park to take a walk and enjoy the fresh air. The park is a short distance from my current location, and it's a great place to clear my mind and get some exercise. I'll take a leisurely stroll around the park, enjoying the scenery and the peaceful atmosphere. After my walk, I'll return home to\n"
     ]
    }
   ],
   "source": [
    "continue_Tom = continue_world.residents['Tom']\n",
    "for i in continue_Tom.memory:\n",
    "    print(i)"
   ]
  },
  {
   "cell_type": "code",
   "execution_count": null,
   "id": "7a308d09",
   "metadata": {},
   "outputs": [],
   "source": []
  }
 ],
 "metadata": {
  "kernelspec": {
   "display_name": "Python 3 (ipykernel)",
   "language": "python",
   "name": "python3"
  },
  "language_info": {
   "codemirror_mode": {
    "name": "ipython",
    "version": 3
   },
   "file_extension": ".py",
   "mimetype": "text/x-python",
   "name": "python",
   "nbconvert_exporter": "python",
   "pygments_lexer": "ipython3",
   "version": "3.9.5"
  }
 },
 "nbformat": 4,
 "nbformat_minor": 5
}
