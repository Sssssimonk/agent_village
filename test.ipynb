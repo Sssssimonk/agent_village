{
 "cells": [
  {
   "cell_type": "code",
   "execution_count": 1,
   "id": "fc87968a",
   "metadata": {},
   "outputs": [],
   "source": [
    "import warnings\n",
    "warnings.filterwarnings(\"ignore\")\n",
    "from main import *"
   ]
  },
  {
   "cell_type": "code",
   "execution_count": 4,
   "id": "e972f4e9",
   "metadata": {},
   "outputs": [
    {
     "data": {
      "application/json": {
       "ascii": false,
       "bar_format": null,
       "colour": null,
       "elapsed": 0.008044958114624023,
       "initial": 0,
       "n": 0,
       "ncols": null,
       "nrows": null,
       "postfix": null,
       "prefix": "Loading checkpoint shards",
       "rate": null,
       "total": 2,
       "unit": "it",
       "unit_divisor": 1000,
       "unit_scale": false
      },
      "application/vnd.jupyter.widget-view+json": {
       "model_id": "2a9706112eb4431c8f37944ecde64089",
       "version_major": 2,
       "version_minor": 0
      },
      "text/plain": [
       "Loading checkpoint shards:   0%|          | 0/2 [00:00<?, ?it/s]"
      ]
     },
     "metadata": {},
     "output_type": "display_data"
    },
    {
     "name": "stdout",
     "output_type": "stream",
     "text": [
      "huggingface model initialized\n",
      "World Initialized\n",
      "Agent Initialized with default method\n",
      "{'8:00': 'wake up and have breakfast', '9:00': 'teach students in the classroom', '10:00': 'take a short break and grade assignments', '11:00': 'attend a meeting with other teachers to discuss school improvements', '12:00': 'have lunch', '13:00': 'spend time with family', '14:00': 'take a walk around the village to clear his mind', '15:00': 'return to the school for after-school activities', '16:00': 'attend a parent-teacher conference', '17:00': 'continue grading assignments and preparing lessons', '18:00': 'have dinner', '19:00': 'spend time relaxing and unwinding', '20:00': 'read a book before bed', '21:00': 'get ready for bed', '22:00': 'go to bed', '23:00': 'sleep'}\n",
      "\n",
      "\n",
      "8:00 - Wake up and have breakfast\n",
      "9:00 - Teach students in the classroom\n",
      "10:00 - Take a short break and grade assignments\n",
      "11:00 - Attend a meeting with other teachers to discuss school improvements\n",
      "12:00 - Have lunch\n",
      "13:00 - Spend time with family\n",
      "14:00 - Take a walk around the village to clear his mind\n",
      "15:00 - Return to the school for after-school activities\n",
      "16:00 - Attend a parent-teacher conference\n",
      "17:00 - Continue grading assignments and preparing lessons\n",
      "18:00 - Have dinner\n",
      "19:00 - Spend time relaxing and unwinding\n",
      "20:00 - Read a book before bed\n",
      "21:00 - Get ready for bed\n",
      "22:00 - Go to bed\n",
      "23:00 - Sleep\n",
      "\n",
      "\n",
      "Note: The plan is based on the information provided and is not intended to be a comprehensive daily plan for a teacher. The activities and times may vary based on individual preferences and needs.\n",
      "{'8:00': 'wake up, have breakfast', '9:00': 'patrol the village, check on residents and businesses', '10:00': 'attend a meeting with the village elders to discuss village matters', '11:00': 'respond to a report of a suspicious person in the area', '12:00': 'have lunch at the local diner', '13:00': 'continue patrolling the village, keeping an eye out for any signs of crime or danger', '14:00': \"check in on the village's elderly residents to make sure they are safe and secure\", '15:00': 'attend a training session to improve his police skills', '16:00': 'take a break and relax for a bit', '17:00': 'respond to a call about a domestic dispute in the village', '18:00': 'have dinner at home with his family', '19:00': 'continue patrolling the village, especially areas with high crime rates', '20:00': 'attend a community event to connect with the villagers and build relationships', '21:00': \"review the day's events and make a plan for the next day\", '22:00': 'spend time with his family and relax', '23:00': 'get ready for bed and go to sleep'}\n",
      "\n",
      "\n",
      "8:00 - Wake up, have breakfast\n",
      "9:00 - Patrol the village, check on residents and businesses\n",
      "10:00 - Attend a meeting with the village elders to discuss village matters\n",
      "11:00 - Respond to a report of a suspicious person in the area\n",
      "12:00 - Have lunch at the local diner\n",
      "13:00 - Continue patrolling the village, keeping an eye out for any signs of crime or danger\n",
      "14:00 - Check in on the village's elderly residents to make sure they are safe and secure\n",
      "15:00 - Attend a training session to improve his police skills\n",
      "16:00 - Take a break and relax for a bit\n",
      "17:00 - Respond to a call about a domestic dispute in the village\n",
      "18:00 - Have dinner at home with his family\n",
      "19:00 - Continue patrolling the village, especially areas with high crime rates\n",
      "20:00 - Attend a community event to connect with the villagers and build relationships\n",
      "21:00 - Review the day's events and make a plan for the next day\n",
      "22:00 - Spend time with his family and relax\n",
      "23:00 - Get ready for bed and go to sleep\n",
      "\n",
      "\n",
      "Please let me know if you have any other questions or need further assistance.\n",
      "****************************\n",
      "Today is Wednesday, it's Cloudy.\n",
      "\n",
      "Current is on 8:00.\n",
      " I am Tom Jackson on Coffee Shop. I will head to the school and start preparing for the day's lessons.\n",
      " I am Jack Tomson on Police Office. I will head to the village square to patrol the area and make sure everything is in order. It's been a few days since the last incident\n",
      "====== This hour is end, new hour will start. ======\n",
      "Current is on 9:00.\n",
      " I am Tom Jackson on School. I will head back to my classroom and continue teaching my students. It's important to stay focused and engaged with the students\n",
      " I am Jack Tomson on Town Square. I will patrol the outskirts of the village to check on any suspicious activity.\n",
      "====== This hour is end, new hour will start. ======\n",
      "Current is on 10:00.\n",
      " I am Tom Jackson on School. I will take a short break and grade assignments. I have a lot of papers to go through and I want to make sure I give each student the attention they deserve. I will take my break in the staff room and get started as soon as possible.\n",
      " I am Jack Tomson on Coffee Shop. I will head to the village hall to attend the meeting with the elders. It is important to listen to their concerns and share my own thoughts on the matters at hand.\n",
      "====== This hour is end, new hour will start. ======\n",
      "Current is on 11:00.\n",
      " I am Tom Jackson on Coffee Shop. I will head to the school to prepare for the meeting with the other teachers. I want to make sure I have all the necessary materials and notes ready for the discussion.\n",
      " I am Jack Tomson on Police Office. I will head to the location of the suspicious person to investigate.\n",
      "====== This hour is end, new hour will start. ======\n",
      "Current is on 12:00.\n",
      " I am Tom Jackson on Coffee Shop. I will go to the park and take a walk. The fresh air and sunshine will do me good\n",
      " I am Jack Tomson on Police Office. I will head to the local park to take a walk and enjoy the fresh air. It's a beautiful day and I could use some exercise.\n",
      "====== This hour is end, new hour will start. ======\n",
      "Current is on 13:00.\n",
      " I am Tom Jackson on School. I will head home to spend time with my family. It's been a long day at school and I'm looking forward to unwinding with my loved ones.\n",
      " I am Jack Tomson on Police Office. I will continue patrolling the village\n",
      "====== This hour is end, new hour will start. ======\n",
      "Current is on 14:00.\n",
      " I am Tom Jackson on School. I will take a walk around the village to clear my mind. The fresh air and scenic views will help me relax and focus my thoughts. I will start my walk from the school and make my way to the village square\n",
      " I am Jack Tomson on Town Square. I will head to the village's elderly residents' homes to check on them.\n",
      "====== This hour is end, new hour will start. ======\n",
      "Current is on 15:00.\n",
      " I am Tom Jackson on School. I will return to the school for after-school activities.\n",
      " I am Jack Tomson on Police Office. I will attend the training session at the village hall.\n",
      "====== This hour is end, new hour will start. ======\n",
      "Current is on 16:00.\n",
      " I am Tom Jackson on School. I will attend the parent-teacher conference.\n",
      " I am Jack Tomson on Police Office. I will take a short nap in the police office. It's been a long day and I could use a bit of rest.\n",
      "====== This hour is end, new hour will start. ======\n",
      "Current is on 17:00.\n",
      " I am Tom Jackson on School. I will continue grading assignments and preparing lessons for the next hour. It's important to stay organized and on top of my work to ensure that my students receive the best education possible.\n",
      " I am Jack Tomson on Police Office. I will head to the location of the domestic dispute.\n",
      "====== This hour is end, new hour will start. ======\n",
      "Current is on 18:00.\n",
      " I am Tom Jackson on School. I will go to the local park and take a walk. The fresh air and exercise will be good for me after a long day at school.\n",
      " I am Jack Tomson on Police Office. I will head home to have dinner with my family.\n",
      "====== This hour is end, new hour will start. ======\n",
      "Current is on 19:00.\n",
      " I am Tom Jackson on Coffee Shop. I will head to the park and take a walk. The fresh air and exercise will do me good after a long day at work.\n",
      " I am Jack Tomson on Town Square. I will continue patrolling the village\n",
      "====== This hour is end, new hour will start. ======\n",
      "Current is on 20:00.\n",
      " I am Tom Jackson on School. I will go to the library to read my book before bed.\n",
      " I am Jack Tomson on Coffee Shop. I will head over to the village hall to attend the community event. It's a great opportunity to connect with the villagers and build relationships. I'll make sure to bring some refreshments to share and be ready to listen to any concerns or questions they may have.\n",
      "====== This hour is end, new hour will start. ======\n",
      "Current is on 21:00.\n",
      " I am Tom Jackson on Coffee Shop. I will go home and get some rest. It's been a long day and I have a big day tomorrow.\n",
      " I am Jack Tomson on Police Office. I will review the day's events and make a plan for the next day. I will also check the village's security cameras to make sure there are no suspicious activities happening in the area.\n",
      "====== This hour is end, new hour will start. ======\n",
      "Current is on 22:00.\n",
      " I am Tom Jackson on School. I will go to bed. It's been a long day and I need my rest. I have a big day tomorrow and need to be well-rested.\n",
      " I am Jack Tomson on Coffee Shop. I will head back home and spend some quality time with my family. It's been a long day and I could use some relaxation. I'll grab a cup of tea and sit down with my wife and kids for a bit. Maybe we'll play a game or watch a movie together. It's always nice to unwind with the people I love.\n",
      "====== This hour is end, new hour will start. ======\n",
      "Current is on 23:00.\n",
      " I am Tom Jackson on School. I will go to the library to study for my upcoming certification exam. It's located just a few blocks away from my school and I can easily fit in a quick study session before my next class.\n",
      " I am Jack Tomson on Coffee Shop. I will head home and get some rest. It's been a long day and I need to be well-rested for tomorrow's shift.\n",
      "====== This hour is end, new hour will start. ======\n"
     ]
    }
   ],
   "source": [
    "world = run_simulation(16, continue_simulation=False, rag=False)"
   ]
  },
  {
   "cell_type": "code",
   "execution_count": 10,
   "id": "9465974a",
   "metadata": {},
   "outputs": [
    {
     "data": {
      "text/plain": [
       "{'name': 'Tom Jackson',\n",
       " 'description': 'Tom is a kind and dedicated school teacher who has been living in the village his entire life. He is in his late thirties and has a passion for teaching and helping others. Tom is well-respected in the community and is loved by his students for his patience and understanding.',\n",
       " 'memory': [],\n",
       " 'location': 'Town Square',\n",
       " 'personality': 'Passionate, kind, Brave',\n",
       " 'world': <world.World at 0x7fcc00407a90>,\n",
       " 'daily_plan': None,\n",
       " 'plan_lst': {},\n",
       " 'meet': [],\n",
       " 'summary': [],\n",
       " 'index': <llama_index.indices.vector_store.base.VectorStoreIndex at 0x7fcc004cd6a0>}"
      ]
     },
     "execution_count": 10,
     "metadata": {},
     "output_type": "execute_result"
    }
   ],
   "source": [
    "tom = world.residents['Tom']"
   ]
  },
  {
   "cell_type": "code",
   "execution_count": 14,
   "id": "429b7d3f",
   "metadata": {},
   "outputs": [
    {
     "data": {
      "text/plain": [
       "{'39f24393-31be-4062-af6f-f9cf632f15d6': RefDocInfo(node_ids=['abb4fbd7-87da-4d3b-b806-dbdd2d627666'], metadata={}),\n",
       " '56dfb587-0054-430a-bce6-43c2cd14789e': RefDocInfo(node_ids=['0625c265-0da9-4f12-a71b-dfaf64e8895c'], metadata={})}"
      ]
     },
     "execution_count": 14,
     "metadata": {},
     "output_type": "execute_result"
    }
   ],
   "source": [
    "index =tom.index\n",
    "index.ref_doc_info"
   ]
  },
  {
   "cell_type": "code",
   "execution_count": 17,
   "id": "ee4894dc",
   "metadata": {},
   "outputs": [
    {
     "data": {
      "text/plain": [
       "Response(response=\"Based on the context information provided, Tom's daily plan is as follows:\\n\\n8:00 AM - Wake up and have breakfast\\n9:00 AM - Teach his morning class (Math)\\n10:00 AM - Take a short break and grade papers\\n11:00 AM - Teach his afternoon class (Science)\\n12:00 PM - Have lunch\\n1:00 PM - Attend a staff meeting\\n2:00 PM - Take a short break and plan for the next day\\n3:00 PM - Teach his evening class (English)\\n4:00 PM - Take a short break and grade more papers\\n5:00 PM - Spend time with his family (wife and kids)\\n6:00 PM - Have dinner\\n7:00 PM - Attend a community event (volunteer work)\\n8:00 PM - Relax and unwind (watch a movie or read a book)\\n9:00 PM - Prepare for bed\\n10:00 PM - Sleep\", source_nodes=[NodeWithScore(node=TextNode(id_='0625c265-0da9-4f12-a71b-dfaf64e8895c', embedding=None, metadata={}, excluded_embed_metadata_keys=[], excluded_llm_metadata_keys=[], relationships={<NodeRelationship.SOURCE: '1'>: RelatedNodeInfo(node_id='56dfb587-0054-430a-bce6-43c2cd14789e', node_type=<ObjectType.DOCUMENT: '4'>, metadata={}, hash='31b763e79a2c1ad87fe72ff2e4497134dabc0bd0079f09c66b7faf19b2045c46')}, text='As Tom, here is my 24-hour daily plan:\\n\\n8:00 AM - Wake up and have breakfast\\n9:00 AM - Teach my morning class (Math)\\n10:00 AM - Take a short break and grade papers\\n11:00 AM - Teach my afternoon class (Science)\\n12:00 PM - Have lunch\\n1:00 PM - Attend a staff meeting\\n2:00 PM - Take a short break and plan for the next day\\n3:00 PM - Teach my evening class (English)\\n4:00 PM - Take a short break and grade more papers\\n5:00 PM - Spend time with my family (wife and kids)\\n6:00 PM - Have dinner\\n7:00 PM - Attend a community event (volunteer work)\\n8:00 PM - Relax and unwind (watch a movie or read a book)\\n9:00 PM - Prepare for bed\\n10:00 PM - Sleep\\n\\nOf course, this is just a general plan and can be adjusted based on personal preferences', start_char_idx=0, end_char_idx=730, text_template='{metadata_str}\\n\\n{content}', metadata_template='{key}: {value}', metadata_seperator='\\n'), score=0.6748620897628027), NodeWithScore(node=TextNode(id_='abb4fbd7-87da-4d3b-b806-dbdd2d627666', embedding=None, metadata={}, excluded_embed_metadata_keys=[], excluded_llm_metadata_keys=[], relationships={<NodeRelationship.SOURCE: '1'>: RelatedNodeInfo(node_id='39f24393-31be-4062-af6f-f9cf632f15d6', node_type=<ObjectType.DOCUMENT: '4'>, metadata={}, hash='556efb9aefdd2bb995bb01fbd0514f44c3bd5b9fb7946545b0f3f743a8093e3d')}, text='Tom is a kind and dedicated school teacher who has been living in the village his entire life. He is in his late thirties and has a passion for teaching and helping others. Tom is well-respected in the community and is loved by his students for his patience and understanding.', start_char_idx=0, end_char_idx=276, text_template='{metadata_str}\\n\\n{content}', metadata_template='{key}: {value}', metadata_seperator='\\n'), score=0.6317261983030404)], metadata={'0625c265-0da9-4f12-a71b-dfaf64e8895c': {}, 'abb4fbd7-87da-4d3b-b806-dbdd2d627666': {}})"
      ]
     },
     "execution_count": 17,
     "metadata": {},
     "output_type": "execute_result"
    }
   ],
   "source": [
    "from llama_index import VectorStoreIndex\n",
    "\n",
    "query_engine = index.as_query_engine()\n",
    "\n",
    "query_engine.query(\"Who is tom's daily plan\")"
   ]
  },
  {
   "cell_type": "code",
   "execution_count": 2,
   "id": "035d5600",
   "metadata": {
    "scrolled": false
   },
   "outputs": [
    {
     "name": "stdout",
     "output_type": "stream",
     "text": [
      "World Initialized\n",
      "Agent Initialized\n",
      "{'8:00': 'wake up, have breakfast', '9:00': 'teach a lesson to the students', '10:00': 'take a break, have a cup of coffee', '11:00': 'attend a meeting with the school principal', '12:00': 'have lunch', '13:00': 'spend time with family', '14:00': 'take a walk around the village', '15:00': 'attend a community event', '16:00': 'help a student with a project', '17:00': 'have dinner', '18:00': 'spend time with family', '19:00': 'read a book', '20:00': 'take a warm bath', '21:00': 'get ready for bed', '22:00': 'sleep'}\n",
      "\n",
      "\n",
      "8:00 - Wake up, have breakfast\n",
      "9:00 - Teach a lesson to the students\n",
      "10:00 - Take a break, have a cup of coffee\n",
      "11:00 - Attend a meeting with the school principal\n",
      "12:00 - Have lunch\n",
      "13:00 - Spend time with family\n",
      "14:00 - Take a walk around the village\n",
      "15:00 - Attend a community event\n",
      "16:00 - Help a student with a project\n",
      "17:00 - Have dinner\n",
      "18:00 - Spend time with family\n",
      "19:00 - Read a book\n",
      "20:00 - Take a warm bath\n",
      "21:00 - Get ready for bed\n",
      "22:00 - Sleep\n",
      "\n",
      "\n",
      "Note: The plan is just a suggestion and can be adjusted based on the person's preferences and needs.\n",
      "{'8:00': 'wake up, have breakfast', '9:00': 'patrol the village, check on residents and businesses', '10:00': 'attend a meeting with the village elders to discuss community concerns', '11:00': 'respond to a report of a suspicious person in the woods', '12:00': 'have lunch at the local diner', '13:00': 'attend a training session on new police equipment', '14:00': 'take a break and rest for a bit', '15:00': 'respond to a call about a domestic dispute', '16:00': 'visit the local school to talk to students about police work', '17:00': 'review crime statistics and make notes for future patrols', '18:00': 'have dinner with the family', '19:00': 'watch a movie with the kids', '20:00': 'take a walk around the village to enjoy the evening', '21:00': 'attend a community event or function', '22:00': 'wind down and prepare for bed', '23:00': 'go to bed'}\n",
      "\n",
      "\n",
      "8:00 - Wake up, have breakfast\n",
      "9:00 - Patrol the village, check on residents and businesses\n",
      "10:00 - Attend a meeting with the village elders to discuss community concerns\n",
      "11:00 - Respond to a report of a suspicious person in the woods\n",
      "12:00 - Have lunch at the local diner\n",
      "13:00 - Attend a training session on new police equipment\n",
      "14:00 - Take a break and rest for a bit\n",
      "15:00 - Respond to a call about a domestic dispute\n",
      "16:00 - Visit the local school to talk to students about police work\n",
      "17:00 - Review crime statistics and make notes for future patrols\n",
      "18:00 - Have dinner with the family\n",
      "19:00 - Watch a movie with the kids\n",
      "20:00 - Take a walk around the village to enjoy the evening\n",
      "21:00 - Attend a community event or function\n",
      "22:00 - Wind down and prepare for bed\n",
      "23:00 - Go to bed\n",
      "\n",
      "Please note that this is just a sample daily plan and may not reflect the actual daily activities of a police officer in a small village.\n",
      "****************************\n",
      "Today is Friday, it's Rain.\n",
      "\n",
      "Current is on 8:00.\n",
      " I am Tom Jackson on School. I will go to the school to prepare for the day's lessons.\n",
      " I am Jack Tomson on Coffee Shop. I will head to the village square to patrol the area and keep an eye out for any suspicious activity. It's important to be visible and proactive in maintaining law and order in our small community.\n",
      "====== This hour is end, new hour will start. ======\n",
      "Current is on 9:00.\n",
      " I am Tom Jackson on School. I will head to the library to grade some papers and prepare for tomorrow's lesson.\n",
      " I am Jack Tomson on Police Office. I will patrol the village\n",
      "====== This hour is end, new hour will start. ======\n",
      "Current is on 10:00.\n",
      " I am Tom Jackson on School. I will take a break and have a cup of coffee in the staff room.\n",
      " I am Jack Tomson on Town Square. I will head to the village's only tavern to gather information from the locals and see if anyone has any leads on the recent string of burglaries.\n",
      "====== This hour is end, new hour will start. ======\n",
      "Current is on 11:00.\n",
      " I am Tom Jackson on School. I will attend the meeting with the school principal.\n",
      " I am Jack Tomson on Police Office. I will head to the woods to investigate the report of a suspicious person. As I walk\n",
      "====== This hour is end, new hour will start. ======\n",
      "Current is on 12:00.\n",
      " I am Tom Jackson on School. I will head back to my classroom to finish marking some papers before the next class.\n",
      " I am Jack Tomson on Coffee Shop. I will head to the village square to check on any suspicious activity.\n",
      "====== This hour is end, new hour will start. ======\n",
      "Current is on 13:00.\n",
      " I am Tom Jackson on Coffee Shop. I will head home to spend time with my family.\n",
      " I am Jack Tomson on Police Office. I will head to the training room to attend the session on the new police equipment.\n",
      "====== This hour is end, new hour will start. ======\n",
      "Current is on 14:00.\n",
      " I am Tom Jackson on School. I will take a walk around the village. It's a beautiful day and I want to enjoy the fresh air and the scenery. I will start at the school and walk towards the town square\n",
      " I am Jack Tomson on Coffee Shop. I will head back to the police station and check in with the other officers. It's been a while since I've been able to take a break and I could use some time to catch up on paperwork and check in with the team. Plus\n",
      "====== This hour is end, new hour will start. ======\n",
      "Current is on 15:00.\n",
      " I am Tom Jackson on School. I will attend the community event at the town hall. It starts at 16:00 and I want to be there on time. I will take a shortcut through the park to get there faster.\n",
      " I am Jack Tomson on Police Office. I will head to the scene of the domestic dispute to investigate and try to resolve the issue peacefully.\n",
      "====== This hour is end, new hour will start. ======\n",
      "Current is on 16:00.\n",
      "Tom Jackson, Jack Tomson are on School.\n",
      " Tom Jackson will go to the library to research and gather information for the project.  Tom Jackson see Jack Tomson on School. .\n",
      " Jack Tomson will head to the school and talk to the students about police work.  It's important for the young generation to learn about the role of law enforcement and how to stay safe in their community.  Jack Tomson will share my experiences and answer any questions they may have.  Jack Tomson see Tom Jackson on School. \n",
      "\n",
      "I will go to the library to research and gather information for the project.\n",
      "\n",
      "====== This hour is end, new hour will start. ======\n",
      "Current is on 17:00.\n",
      " I am Tom Jackson on School. I will head back to my classroom and grade some papers before calling it a day. It's been a long day and I'm looking forward to unwinding after work.\n",
      " I am Jack Tomson on Police Office. I will review the crime statistics and make notes for future patrols.\n",
      "====== This hour is end, new hour will start. ======\n",
      "Current is on 18:00.\n",
      " I am Tom Jackson on School. I will head home to spend time with my family.\n",
      " I am Jack Tomson on Police Office. I will head home for dinner. The sun has already set\n",
      "====== This hour is end, new hour will start. ======\n",
      "Current is on 19:00.\n",
      " I am Tom Jackson on School. I will go to the library to read a book.\n",
      " I am Jack Tomson on Coffee Shop. I will go to the park with the kids and play a game of tag. It's a beautiful day and the kids are excited to get some fresh air and exercise. After that\n",
      "====== This hour is end, new hour will start. ======\n",
      "Current is on 20:00.\n",
      " I am Tom Jackson on School. I will take a nap.\n",
      " I am Jack Tomson on Coffee Shop. I will take a walk around the village to enjoy the evening. The crisp air and the quiet streets are a nice change of pace from the hustle and bustle of the day. I will stroll through the village\n",
      "====== This hour is end, new hour will start. ======\n",
      "Current is on 21:00.\n",
      " I am Tom Jackson on School. I will head to bed and get some rest before tomorrow's classes. It's been a long day and I have a lot of work to do tomorrow. Goodnight!\n",
      " I am Jack Tomson on Coffee Shop. I will attend the community event at the village hall. It's a great opportunity to catch up with my neighbors and show my support for the local community. Plus\n",
      "====== This hour is end, new hour will start. ======\n",
      "Current is on 22:00.\n",
      " I am Tom Jackson on Coffee Shop. I will go to the park and take a walk. It's a beautiful day and I could use some fresh air and exercise.\n",
      " I am Jack Tomson on Police Office. I will head to bed and get some rest. It's been a long day and I need to be well-rested for tomorrow's patrol.\n",
      "====== This hour is end, new hour will start. ======\n",
      "Current is on 23:00.\n"
     ]
    },
    {
     "ename": "KeyError",
     "evalue": "'23:00'",
     "output_type": "error",
     "traceback": [
      "\u001b[0;31m---------------------------------------------------------------------------\u001b[0m",
      "\u001b[0;31mKeyError\u001b[0m                                  Traceback (most recent call last)",
      "Cell \u001b[0;32mIn[2], line 1\u001b[0m\n\u001b[0;32m----> 1\u001b[0m world \u001b[38;5;241m=\u001b[39m \u001b[43mrun_simulation\u001b[49m\u001b[43m(\u001b[49m\u001b[43mhours_to_run\u001b[49m\u001b[38;5;241;43m=\u001b[39;49m\u001b[38;5;241;43m16\u001b[39;49m\u001b[43m,\u001b[49m\u001b[43m \u001b[49m\u001b[43mcontinue_simulation\u001b[49m\u001b[38;5;241;43m=\u001b[39;49m\u001b[38;5;28;43;01mFalse\u001b[39;49;00m\u001b[43m)\u001b[49m\n",
      "File \u001b[0;32m~/private/agent_village/main.py:52\u001b[0m, in \u001b[0;36mrun_simulation\u001b[0;34m(hours_to_run, continue_simulation)\u001b[0m\n\u001b[1;32m     49\u001b[0m \u001b[38;5;28mprint\u001b[39m(\u001b[38;5;124m\"\u001b[39m\u001b[38;5;124mCurrent is on \u001b[39m\u001b[38;5;132;01m{}\u001b[39;00m\u001b[38;5;124m:00.\u001b[39m\u001b[38;5;124m\"\u001b[39m\u001b[38;5;241m.\u001b[39mformat(world\u001b[38;5;241m.\u001b[39mcur_time))\n\u001b[1;32m     51\u001b[0m \u001b[38;5;28;01mfor\u001b[39;00m resident \u001b[38;5;129;01min\u001b[39;00m world\u001b[38;5;241m.\u001b[39mresidents:\n\u001b[0;32m---> 52\u001b[0m     \u001b[43mworld\u001b[49m\u001b[38;5;241;43m.\u001b[39;49m\u001b[43mresidents\u001b[49m\u001b[43m[\u001b[49m\u001b[43mresident\u001b[49m\u001b[43m]\u001b[49m\u001b[38;5;241;43m.\u001b[39;49m\u001b[43maction\u001b[49m\u001b[43m(\u001b[49m\u001b[38;5;124;43m\"\u001b[39;49m\u001b[38;5;124;43mplace\u001b[39;49m\u001b[38;5;124;43m\"\u001b[39;49m\u001b[43m)\u001b[49m\n\u001b[1;32m     53\u001b[0m     world\u001b[38;5;241m.\u001b[39mresidents[resident]\u001b[38;5;241m.\u001b[39maction()\n\u001b[1;32m     54\u001b[0m     \u001b[38;5;28;01mif\u001b[39;00m world\u001b[38;5;241m.\u001b[39mresidents[resident]\u001b[38;5;241m.\u001b[39mlocation \u001b[38;5;129;01min\u001b[39;00m place_dict\u001b[38;5;241m.\u001b[39mkeys():\n",
      "File \u001b[0;32m~/private/agent_village/person.py:92\u001b[0m, in \u001b[0;36mPerson.action\u001b[0;34m(self, task)\u001b[0m\n\u001b[1;32m     89\u001b[0m     \u001b[38;5;66;03m# print(\"The action for \" + self.name + \"is : \" + response)\u001b[39;00m\n\u001b[1;32m     91\u001b[0m \u001b[38;5;28;01mif\u001b[39;00m task \u001b[38;5;241m==\u001b[39m \u001b[38;5;124m\"\u001b[39m\u001b[38;5;124mplace\u001b[39m\u001b[38;5;124m\"\u001b[39m:\n\u001b[0;32m---> 92\u001b[0m     prompt \u001b[38;5;241m=\u001b[39m \u001b[43mgenerate_prompt\u001b[49m\u001b[43m(\u001b[49m\u001b[38;5;124;43m\"\u001b[39;49m\u001b[38;5;124;43mplace\u001b[39;49m\u001b[38;5;124;43m\"\u001b[39;49m\u001b[43m,\u001b[49m\u001b[43m \u001b[49m\u001b[38;5;28;43mself\u001b[39;49m\u001b[43m,\u001b[49m\u001b[43m \u001b[49m\u001b[38;5;28;43mself\u001b[39;49m\u001b[38;5;241;43m.\u001b[39;49m\u001b[43mworld\u001b[49m\u001b[43m)\u001b[49m\n\u001b[1;32m     93\u001b[0m     response \u001b[38;5;241m=\u001b[39m generate_response(prompt, max_new_tokens\u001b[38;5;241m=\u001b[39m\u001b[38;5;241m10\u001b[39m, min_new_tokens\u001b[38;5;241m=\u001b[39m\u001b[38;5;241m1\u001b[39m)[\u001b[38;5;241m0\u001b[39m][\u001b[38;5;124m'\u001b[39m\u001b[38;5;124mgenerated_text\u001b[39m\u001b[38;5;124m'\u001b[39m]\n\u001b[1;32m     94\u001b[0m     place \u001b[38;5;241m=\u001b[39m response\u001b[38;5;241m.\u001b[39msplit(\u001b[38;5;124m\"\u001b[39m\u001b[38;5;124m<Output>:\u001b[39m\u001b[38;5;124m\"\u001b[39m)[\u001b[38;5;241m1\u001b[39m]\n",
      "File \u001b[0;32m~/private/agent_village/llm.py:105\u001b[0m, in \u001b[0;36mgenerate_prompt\u001b[0;34m(task, person, world)\u001b[0m\n\u001b[1;32m     93\u001b[0m     prompt \u001b[38;5;241m=\u001b[39m prompt\u001b[38;5;241m.\u001b[39mformat(person\u001b[38;5;241m.\u001b[39mname, \n\u001b[1;32m     94\u001b[0m                            person\u001b[38;5;241m.\u001b[39mdescription, \n\u001b[1;32m     95\u001b[0m                            person\u001b[38;5;241m.\u001b[39mpersonality,\n\u001b[1;32m     96\u001b[0m                            world\u001b[38;5;241m.\u001b[39mdate,\n\u001b[1;32m     97\u001b[0m                            world\u001b[38;5;241m.\u001b[39mweather\n\u001b[1;32m     98\u001b[0m                           )\n\u001b[1;32m    100\u001b[0m \u001b[38;5;28;01mif\u001b[39;00m task \u001b[38;5;241m==\u001b[39m \u001b[38;5;124m\"\u001b[39m\u001b[38;5;124mplace\u001b[39m\u001b[38;5;124m\"\u001b[39m:\n\u001b[1;32m    101\u001b[0m     prompt \u001b[38;5;241m=\u001b[39m prompt\u001b[38;5;241m.\u001b[39mformat(person\u001b[38;5;241m.\u001b[39mname, \n\u001b[1;32m    102\u001b[0m                            person\u001b[38;5;241m.\u001b[39mdescription, \n\u001b[1;32m    103\u001b[0m                            \u001b[38;5;124m\"\u001b[39m\u001b[38;5;124m, \u001b[39m\u001b[38;5;124m\"\u001b[39m\u001b[38;5;241m.\u001b[39mjoin(\u001b[38;5;28mlist\u001b[39m(world\u001b[38;5;241m.\u001b[39mtown_areas\u001b[38;5;241m.\u001b[39mkeys())),\n\u001b[1;32m    104\u001b[0m                            \u001b[38;5;124m\"\u001b[39m\u001b[38;5;132;01m{}\u001b[39;00m\u001b[38;5;124m plan to \u001b[39m\u001b[38;5;132;01m{}\u001b[39;00m\u001b[38;5;124m\"\u001b[39m\u001b[38;5;241m.\u001b[39mformat(person\u001b[38;5;241m.\u001b[39mname\u001b[38;5;241m.\u001b[39msplit(\u001b[38;5;124m\"\u001b[39m\u001b[38;5;124m \u001b[39m\u001b[38;5;124m\"\u001b[39m)[\u001b[38;5;241m0\u001b[39m], \n\u001b[0;32m--> 105\u001b[0m                                                   \u001b[43mperson\u001b[49m\u001b[38;5;241;43m.\u001b[39;49m\u001b[43mplan_lst\u001b[49m\u001b[43m[\u001b[49m\u001b[38;5;124;43m\"\u001b[39;49m\u001b[38;5;132;43;01m{}\u001b[39;49;00m\u001b[38;5;124;43m:00\u001b[39;49m\u001b[38;5;124;43m\"\u001b[39;49m\u001b[38;5;241;43m.\u001b[39;49m\u001b[43mformat\u001b[49m\u001b[43m(\u001b[49m\u001b[43mworld\u001b[49m\u001b[38;5;241;43m.\u001b[39;49m\u001b[43mcur_time\u001b[49m\u001b[43m)\u001b[49m\u001b[43m]\u001b[49m),\n\u001b[1;32m    106\u001b[0m                            world\u001b[38;5;241m.\u001b[39mcur_time\n\u001b[1;32m    107\u001b[0m                           )\n\u001b[1;32m    109\u001b[0m \u001b[38;5;28;01mif\u001b[39;00m task \u001b[38;5;241m==\u001b[39m \u001b[38;5;124m\"\u001b[39m\u001b[38;5;124maction\u001b[39m\u001b[38;5;124m\"\u001b[39m:\n\u001b[1;32m    110\u001b[0m     before_action \u001b[38;5;241m=\u001b[39m \u001b[38;5;124m\"\u001b[39m\u001b[38;5;124m\"\u001b[39m\n",
      "\u001b[0;31mKeyError\u001b[0m: '23:00'"
     ]
    }
   ],
   "source": [
    "world = run_simulation(hours_to_run=16, continue_simulation=False)"
   ]
  },
  {
   "cell_type": "code",
   "execution_count": 6,
   "id": "2f4dba65",
   "metadata": {},
   "outputs": [
    {
     "name": "stdout",
     "output_type": "stream",
     "text": [
      "Summarizing today's memory\n",
      "<Information Given>\n",
      "\n",
      "Name: Jack Tomson\n",
      "Action done today: The Current Time is 8 :00 \n",
      "\n",
      "I will head to the housing area to check on the residents and make sure everything is secure.\n",
      "\n",
      "<Information Given>\n",
      "\n",
      "Town Areas: dict\\_keys(['Town Square', 'Police Office', 'Supermarket', 'Village Park', 'City Hall', 'Coffee Shop', 'Housing Area', 'School'])\n",
      "Current Location: The Current Time is 9 :00 \n",
      "\n",
      "I will head to the housing area to check on the residents and make sure everything is secure. I want to make sure that the residents feel safe and comfortable in their homes. The Current Time is 10 :00 \n",
      "\n",
      "I will head to the village park to exercise and clear my mind. It's a beautiful day, and I want to take advantage of the weather and get some fresh air. I'll spend some time jogging and doing some stretching to help me stay energized and focused for the rest of the shift. The Current Time is 11 :00 \n",
      "\n",
      "I will head to the village park to exercise and clear my mind. It's a beautiful day, and I want to take advantage of the weather and get some fresh air. I'll spend some time jogging and doing some stretching to help me stay energized and focused for the rest of the shift. The Current Time is 12 :00 \n",
      "\n",
      "I will head to the housing area to check on the residents and make sure everything is secure. I want to make sure that the residents feel safe and comfortable in their homes. The Current Time is 13 :00 \n",
      "\n",
      "I will continue working on paperwork and reports.\n",
      "\n",
      "<Instruction>: Based on current base plan, decide what to do or where to go for the next hour. Use first-person perspective\n",
      "\n",
      "<Output format>:\n",
      "\n",
      "I will xxx\n",
      "\n",
      " The Current Time is 14 :00 \n",
      "\n",
      "I will head to the village park to exercise and clear my mind. It's a beautiful day, and I want to take advantage of the weather and get some fresh air. I'll spend some time jogging and doing some stretching to help me stay energized and focused for the rest of the shift. The Current Time is 15 :00 \n",
      "\n",
      "I will head to the village park to exercise and clear my mind. It's a beautiful day, and I want to take advantage of the weather and get some fresh air. I'll spend some time jogging and doing some stretching to help me stay energized and focused for the rest of the shift. The Current Time is 16 :00 \n",
      "\n",
      "I will head to the village park to exercise and clear my mind. It's a beautiful day, and I want to take advantage of the weather and get some fresh air. I'll spend some time jogging and doing some stretching to stay in shape. Afterward, I'll return to the police office to continue working on paperwork and reports. The Current Time is 17 :00 \n",
      "\n",
      "I will head to the village park to exercise and clear my mind. It's a beautiful day, and I want to take advantage of the weather and get some fresh air. I'll spend some time jogging and doing some stretching exercises to stay in shape. Afterward, I'll return to the police office to continue working on paperwork and reports. The Current Time is 18 :00 \n",
      "\n",
      "I will head to the village park to exercise and clear my mind. It's a beautiful day, and I want to take advantage of the weather and get some fresh air. I'll spend some time jogging and doing some stretching exercises to stay in shape. Afterward, I'll head back to the police office to continue working on paperwork and reports. The Current Time is 19 :00 \n",
      "\n",
      "I will head to the housing area to check on the residents and make sure everything is secure. I want to make sure that the residents feel safe and comfortable in their homes. The Current Time is 20 :00 \n",
      "\n",
      "I will head to the housing area to check on the residents and make sure everything is secure. I want to make sure that the residents feel safe and comfortable in their homes. The Current Time is 21 :00 \n",
      "\n",
      "I will head to the housing area to check on the residents and make sure everything is secure. I want to make sure that the residents feel safe and comfortable in their homes. The Current Time is 22 :00 \n",
      "\n",
      "I will head to the housing area to check on the residents and make sure everything is secure.\n",
      "\n",
      "<Information Given>\n",
      "\n",
      "Town Areas: dict\\_keys(['Town Square', 'Police Office', 'Supermarket', 'Village Park', 'City Hall', 'Coffee Shop', 'Housing Area', 'School'])\n",
      "Current Location: The Current Time is 23 :00 \n",
      "\n",
      "I will head to the housing area to check on the residents and make sure everything is secure.\n",
      "\n",
      "<Information Given>\n",
      "\n",
      "Town Areas: dict\\_keys(['Town Square', 'Police Office', 'Supermarket', 'Village Park', 'City Hall', 'Coffee Shop', 'Housing Area', 'School'])\n",
      "Current Location:\n",
      "\n",
      "<Instruction>: Based on today's current actions, make a summary\n",
      "\n",
      "<Output:>\n",
      "\n",
      "Today, I checked on the residents in the housing area to make sure they felt safe and comfortable in their homes. I also exercised and spent time working on paperwork and reports at the police office. I took advantage of the beautiful weather to get some fresh air and stay energized throughout the shift.\n"
     ]
    }
   ],
   "source": [
    "jack.reflect()"
   ]
  },
  {
   "cell_type": "code",
   "execution_count": 8,
   "id": "50fb16fe",
   "metadata": {},
   "outputs": [
    {
     "data": {
      "text/plain": [
       "[\"The Current Time is 8 :00 \\n\\nI will head to the housing area to check on the residents and make sure everything is secure.\\n\\n<Information Given>\\n\\nTown Areas: dict\\\\_keys(['Town Square', 'Police Office', 'Supermarket', 'Village Park', 'City Hall', 'Coffee Shop', 'Housing Area', 'School'])\\nCurrent Location:\",\n",
       " 'The Current Time is 9 :00 \\n\\nI will head to the housing area to check on the residents and make sure everything is secure. I want to make sure that the residents feel safe and comfortable in their homes.',\n",
       " \"The Current Time is 10 :00 \\n\\nI will head to the village park to exercise and clear my mind. It's a beautiful day, and I want to take advantage of the weather and get some fresh air. I'll spend some time jogging and doing some stretching to help me stay energized and focused for the rest of the shift.\",\n",
       " \"The Current Time is 11 :00 \\n\\nI will head to the village park to exercise and clear my mind. It's a beautiful day, and I want to take advantage of the weather and get some fresh air. I'll spend some time jogging and doing some stretching to help me stay energized and focused for the rest of the shift.\",\n",
       " 'The Current Time is 12 :00 \\n\\nI will head to the housing area to check on the residents and make sure everything is secure. I want to make sure that the residents feel safe and comfortable in their homes.',\n",
       " 'The Current Time is 13 :00 \\n\\nI will continue working on paperwork and reports.\\n\\n<Instruction>: Based on current base plan, decide what to do or where to go for the next hour. Use first-person perspective\\n\\n<Output format>:\\n\\nI will xxx\\n\\n',\n",
       " \"The Current Time is 14 :00 \\n\\nI will head to the village park to exercise and clear my mind. It's a beautiful day, and I want to take advantage of the weather and get some fresh air. I'll spend some time jogging and doing some stretching to help me stay energized and focused for the rest of the shift.\",\n",
       " \"The Current Time is 15 :00 \\n\\nI will head to the village park to exercise and clear my mind. It's a beautiful day, and I want to take advantage of the weather and get some fresh air. I'll spend some time jogging and doing some stretching to help me stay energized and focused for the rest of the shift.\",\n",
       " \"The Current Time is 16 :00 \\n\\nI will head to the village park to exercise and clear my mind. It's a beautiful day, and I want to take advantage of the weather and get some fresh air. I'll spend some time jogging and doing some stretching to stay in shape. Afterward, I'll return to the police office to continue working on paperwork and reports.\",\n",
       " \"The Current Time is 17 :00 \\n\\nI will head to the village park to exercise and clear my mind. It's a beautiful day, and I want to take advantage of the weather and get some fresh air. I'll spend some time jogging and doing some stretching exercises to stay in shape. Afterward, I'll return to the police office to continue working on paperwork and reports.\",\n",
       " \"The Current Time is 18 :00 \\n\\nI will head to the village park to exercise and clear my mind. It's a beautiful day, and I want to take advantage of the weather and get some fresh air. I'll spend some time jogging and doing some stretching exercises to stay in shape. Afterward, I'll head back to the police office to continue working on paperwork and reports.\",\n",
       " 'The Current Time is 19 :00 \\n\\nI will head to the housing area to check on the residents and make sure everything is secure. I want to make sure that the residents feel safe and comfortable in their homes.',\n",
       " 'The Current Time is 20 :00 \\n\\nI will head to the housing area to check on the residents and make sure everything is secure. I want to make sure that the residents feel safe and comfortable in their homes.',\n",
       " 'The Current Time is 21 :00 \\n\\nI will head to the housing area to check on the residents and make sure everything is secure. I want to make sure that the residents feel safe and comfortable in their homes.',\n",
       " \"The Current Time is 22 :00 \\n\\nI will head to the housing area to check on the residents and make sure everything is secure.\\n\\n<Information Given>\\n\\nTown Areas: dict\\\\_keys(['Town Square', 'Police Office', 'Supermarket', 'Village Park', 'City Hall', 'Coffee Shop', 'Housing Area', 'School'])\\nCurrent Location:\",\n",
       " \"The Current Time is 23 :00 \\n\\nI will head to the housing area to check on the residents and make sure everything is secure.\\n\\n<Information Given>\\n\\nTown Areas: dict\\\\_keys(['Town Square', 'Police Office', 'Supermarket', 'Village Park', 'City Hall', 'Coffee Shop', 'Housing Area', 'School'])\\nCurrent Location:\"]"
      ]
     },
     "execution_count": 8,
     "metadata": {},
     "output_type": "execute_result"
    }
   ],
   "source": [
    "jack = world.residents['Jack']\n",
    "tom = world.residents['Tom']\n",
    "# for i in jack.memory:\n",
    "#     print(i)\n",
    "jack.memory[-16:]"
   ]
  },
  {
   "cell_type": "code",
   "execution_count": 4,
   "id": "4e27161a",
   "metadata": {},
   "outputs": [
    {
     "data": {
      "text/plain": [
       "24"
      ]
     },
     "execution_count": 4,
     "metadata": {},
     "output_type": "execute_result"
    }
   ],
   "source": [
    "world.cur_time"
   ]
  },
  {
   "cell_type": "code",
   "execution_count": null,
   "id": "b67ecef6",
   "metadata": {},
   "outputs": [],
   "source": [
    "def calculate_sentence_similarity(memories, plans):\n",
    "    for name in plans.keys():\n",
    "        memory_summarization = generate(prompt_meta.format(summarize_prompt.format(name, memories[name])), model, tokenizer)\n",
    "        initial_plan = plans[name]\n",
    "        embedding_1= sentence_model.encode(memory_summarization, convert_to_tensor=True)\n",
    "        embedding_2 = sentence_model.encode(initial_plan, convert_to_tensor=True)\n",
    "        similarity_score = util.pytorch_cos_sim(embedding_1, embedding_2).tolist()[0][0]\n",
    "        print(\"The memory consistency score between intial plan and memory summary for {} is {}\".format(name, similarity_score))\n",
    "\n"
   ]
  },
  {
   "cell_type": "code",
   "execution_count": 9,
   "id": "c80be8af",
   "metadata": {},
   "outputs": [
    {
     "data": {
      "text/plain": [
       "'I plan to go to schhol\\nI want to sleep'"
      ]
     },
     "execution_count": 9,
     "metadata": {},
     "output_type": "execute_result"
    }
   ],
   "source": [
    "lst = [\"a\", \"I plan to go to schhol\", \"I want to sleep\"]\n",
    "\n",
    "\"\\n\".join(lst[1:])"
   ]
  },
  {
   "cell_type": "code",
   "execution_count": 12,
   "id": "d3179904",
   "metadata": {},
   "outputs": [
    {
     "data": {
      "text/plain": [
       "3"
      ]
     },
     "execution_count": 12,
     "metadata": {},
     "output_type": "execute_result"
    }
   ],
   "source": [
    "51 % 16"
   ]
  },
  {
   "cell_type": "code",
   "execution_count": null,
   "id": "cb50df77",
   "metadata": {},
   "outputs": [],
   "source": []
  }
 ],
 "metadata": {
  "kernelspec": {
   "display_name": "ga_kernel",
   "language": "python",
   "name": "ga_kernel"
  },
  "language_info": {
   "codemirror_mode": {
    "name": "ipython",
    "version": 3
   },
   "file_extension": ".py",
   "mimetype": "text/x-python",
   "name": "python",
   "nbconvert_exporter": "python",
   "pygments_lexer": "ipython3",
   "version": "3.9.12"
  }
 },
 "nbformat": 4,
 "nbformat_minor": 5
}
