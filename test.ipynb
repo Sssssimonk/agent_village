{
 "cells": [
  {
   "cell_type": "code",
   "execution_count": 1,
   "id": "fc87968a",
   "metadata": {},
   "outputs": [
    {
     "name": "stderr",
     "output_type": "stream",
     "text": [
      "2024-01-31 20:36:54.968584: I tensorflow/core/platform/cpu_feature_guard.cc:182] This TensorFlow binary is optimized to use available CPU instructions in performance-critical operations.\n",
      "To enable the following instructions: AVX2 FMA, in other operations, rebuild TensorFlow with the appropriate compiler flags.\n"
     ]
    },
    {
     "name": "stdout",
     "output_type": "stream",
     "text": [
      "\n",
      "===================================BUG REPORT===================================\n",
      "Welcome to bitsandbytes. For bug reports, please run\n",
      "\n",
      "python -m bitsandbytes\n",
      "\n",
      " and submit this information together with your error trace to: https://github.com/TimDettmers/bitsandbytes/issues\n",
      "================================================================================\n",
      "CUDA SETUP: CUDA runtime path found: /opt/conda/pkgs/cudatoolkit-11.8.0-h4ba93d1_12/lib/libcudart.so\n",
      "CUDA SETUP: Highest compute capability among GPUs detected: 6.1\n",
      "CUDA SETUP: Detected CUDA version 118\n",
      "CUDA SETUP: Loading binary /home/yehe/.local/lib/python3.9/site-packages/bitsandbytes/libbitsandbytes_cuda118_nocublaslt.so...\n"
     ]
    },
    {
     "name": "stderr",
     "output_type": "stream",
     "text": [
      "/home/yehe/.local/lib/python3.9/site-packages/bitsandbytes/cuda_setup/main.py:147: UserWarning: WARNING: The following directories listed in your path were found to be non-existent: {PosixPath('/opt/conda/pkgs/cudatoolkit-11.2.2-he111cf0_8/lib'), PosixPath('/usr/local/nvidia/lib'), PosixPath('/opt/conda/pkgs/cudnn-8.2.1.32-h86fa8c9_0/lib')}\n",
      "  warn(msg)\n",
      "/home/yehe/.local/lib/python3.9/site-packages/bitsandbytes/cuda_setup/main.py:147: UserWarning: WARNING: Compute capability < 7.5 detected! Only slow 8-bit matmul is supported for your GPU!\n",
      "  warn(msg)\n"
     ]
    },
    {
     "data": {
      "application/vnd.jupyter.widget-view+json": {
       "model_id": "a3350eec90f14878826679c666a09065",
       "version_major": 2,
       "version_minor": 0
      },
      "text/plain": [
       "Loading checkpoint shards:   0%|          | 0/2 [00:00<?, ?it/s]"
      ]
     },
     "metadata": {},
     "output_type": "display_data"
    },
    {
     "name": "stderr",
     "output_type": "stream",
     "text": [
      "/home/yehe/.local/lib/python3.9/site-packages/transformers/utils/hub.py:374: FutureWarning: The `use_auth_token` argument is deprecated and will be removed in v5 of Transformers. Please use `token` instead.\n",
      "  warnings.warn(\n"
     ]
    },
    {
     "name": "stdout",
     "output_type": "stream",
     "text": [
      "hf_model_initialized\n"
     ]
    }
   ],
   "source": [
    "from main import *"
   ]
  },
  {
   "cell_type": "code",
   "execution_count": 2,
   "id": "035d5600",
   "metadata": {
    "scrolled": true
   },
   "outputs": [
    {
     "name": "stdout",
     "output_type": "stream",
     "text": [
      "World Initialized\n",
      "Agent Initialized\n",
      "The daily plan for Tom Jackson is : \n",
      "\n",
      "8 am: Wake up and have breakfast at home.\n",
      "9 am: Teach a lesson at school.\n",
      "10 am: Take a short break to rest and prepare for the next lesson.\n",
      "11 am: Teach another lesson at school.\n",
      "12 pm: Have lunch at the school cafeteria.\n",
      "13 pm: Spend some time with my students and answer their questions.\n",
      "14 pm: Take a short nap at home to rest.\n",
      "15 pm: Spend time with my family and friends.\n",
      "16 pm: Take a walk around the village to enjoy the sunny weather.\n",
      "17 pm: Visit the police office to check in and report any issues.\n",
      "18 pm: Have dinner at home with my family.\n",
      "19 pm: Spend some time reading a book or watching a movie.\n",
      "20 pm: Take a short walk around the village to get some fresh air.\n",
      "21 pm: Help some of my students with their homework.\n",
      "22 pm: Spend time with my family and friends.\n",
      "23 pm: Get ready for bed.\n",
      "24 pm: Sleep.\n",
      "\n",
      "Please note that this is just a sample plan and the actual daily activities may vary based on the individual's preferences and priorities.\n",
      "The daily plan for Jack Tomson is : \n",
      "\n",
      "8 am: Wake up and have breakfast at home.\n",
      "9 am: Patrol the town square and surrounding areas.\n",
      "10 am: Attend a meeting with the village elders to discuss community concerns.\n",
      "11 am: Respond to a report of a suspicious person in the housing area.\n",
      "12 pm: Have lunch at the local supermarket.\n",
      "13 pm: Visit the village park to check on the well-being of the residents.\n",
      "14 pm: Receive a call from a resident reporting a burglary at their home.\n",
      "15 pm: Investigate the burglary and gather evidence.\n",
      "16 pm: Return to the police station to process the evidence and file a report.\n",
      "17 pm: Take a break and have a cup of coffee at the coffee shop.\n",
      "18 pm: Attend a training session at the police station to improve officer safety protocols.\n",
      "19 pm: Patrol the city hall area to ensure the safety of the employees and visitors.\n",
      "20 pm: Review the day's events and make a plan for the following day.\n",
      "21 pm: Check in with the village elders to inform them of the day's events.\n",
      "22 pm: End the day with a dinner at home.\n",
      "23 pm: Prepare for the next day's patrol.\n",
      "24 pm: Go to bed to\n",
      "\n",
      "\n",
      "I will go to the village park and take a walk around to enjoy the sunny weather. It's been a while since I last went there and I could use some fresh air.\n",
      "\n",
      "\n",
      "I will patrol the town square and surrounding areas.\n",
      "\n",
      "<Information Given>\n",
      "\n",
      "As the police officer in charge of maintaining law and order in the small village, I will begin my patrol by walking through the town square and surrounding areas. I will keep a sharp eye out for any suspicious activity or individuals, and will stop to talk to any residents or business owners I\n",
      "\n",
      "\n",
      "I will head to the school to teach my next lesson. It's already 9 am and I have a math lesson scheduled for 10 am. I want to make sure I'm well-prepared for the lesson and can give my students the best learning experience possible.\n",
      "\n",
      "\n",
      "I will patrol the town square and surrounding areas.\n",
      "\n",
      "<Information Given>\n",
      "\n",
      "Name: Jack Tomson\n",
      "Discription: Jack is a 32-year-old man who has lived in the small village all his life. He is the only son of the village's former police chief, who instilled in him a strong sense of duty and justice. Jack is tall\n"
     ]
    }
   ],
   "source": [
    "world_1 = run_simulation(2, False)"
   ]
  },
  {
   "cell_type": "code",
   "execution_count": 3,
   "id": "50fb16fe",
   "metadata": {},
   "outputs": [
    {
     "name": "stdout",
     "output_type": "stream",
     "text": [
      "\n",
      "\n",
      "8 am: Wake up and have breakfast at home.\n",
      "9 am: Teach a lesson at school.\n",
      "10 am: Take a short break to rest and prepare for the next lesson.\n",
      "11 am: Teach another lesson at school.\n",
      "12 pm: Have lunch at the school cafeteria.\n",
      "13 pm: Spend some time with my students and answer their questions.\n",
      "14 pm: Take a short nap at home to rest.\n",
      "15 pm: Spend time with my family and friends.\n",
      "16 pm: Take a walk around the village to enjoy the sunny weather.\n",
      "17 pm: Visit the police office to check in and report any issues.\n",
      "18 pm: Have dinner at home with my family.\n",
      "19 pm: Spend some time reading a book or watching a movie.\n",
      "20 pm: Take a short walk around the village to get some fresh air.\n",
      "21 pm: Help some of my students with their homework.\n",
      "22 pm: Spend time with my family and friends.\n",
      "23 pm: Get ready for bed.\n",
      "24 pm: Sleep.\n",
      "\n",
      "Please note that this is just a sample plan and the actual daily activities may vary based on the individual's preferences and priorities.\n",
      "Current Time is 8\n",
      "\n",
      "I will go to the village park and take a walk around to enjoy the sunny weather. It's been a while since I last went there and I could use some fresh air.\n",
      "Current Time is 9\n",
      "\n",
      "I will head to the school to teach my next lesson. It's already 9 am and I have a math lesson scheduled for 10 am. I want to make sure I'm well-prepared for the lesson and can give my students the best learning experience possible.\n"
     ]
    }
   ],
   "source": [
    "jack_1 = world_1.residents['Jack']\n",
    "tom_1 = world_1.residents['Tom']\n",
    "for i in tom_1.memory:\n",
    "    print(i)"
   ]
  },
  {
   "cell_type": "code",
   "execution_count": 4,
   "id": "a711446a",
   "metadata": {},
   "outputs": [
    {
     "name": "stdout",
     "output_type": "stream",
     "text": [
      "World Initialized\n",
      "Agent Initialized\n",
      "The daily plan for Tom Jackson is : \n",
      "\n",
      "8 am : Wake up and have breakfast\n",
      "9 am : Teach students at school\n",
      "10 am : Take a short break and have a cup of coffee\n",
      "11 am : Attend a meeting with other teachers to discuss new curriculum\n",
      "12 pm : Have lunch\n",
      "13 pm : Spend time with family and friends\n",
      "14 pm : Take a walk in the park\n",
      "15 pm : Visit the supermarket to buy groceries\n",
      "16 pm : Return home and rest\n",
      "17 pm : Attend a community event\n",
      "18 pm : Have dinner\n",
      "19 pm : Spend time relaxing and unwinding\n",
      "20 pm : Help students with their homework\n",
      "21 pm : Watch TV or read a book\n",
      "22 pm : Get ready for bed\n",
      "23 pm : Sleep\n",
      "24 pm : Wake up and start the day again\n",
      "\n",
      "Please let me know if you have any questions or need further clarification.\n",
      "The daily plan for Jack Tomson is : \n",
      "\n",
      "8 am : Wake up, have breakfast\n",
      "9 am : Patrol the town square\n",
      "10 am : Respond to a call at the supermarket\n",
      "11 am : Attend a meeting with the village elders at City Hall\n",
      "12 pm : Have lunch at the Coffee Shop\n",
      "13 pm : Check on the housing area\n",
      "14 pm : Visit the school to speak with the students\n",
      "15 pm : Take a break and rest\n",
      "16 pm : Patrol the village park\n",
      "17 pm : Attend to a disturbance at the town square\n",
      "18 pm : Have dinner at home\n",
      "19 pm : Continue patrolling the town\n",
      "20 pm : Attend a community event at the town square\n",
      "21 pm : Respond to a call at the police office\n",
      "22 pm : Review the day's events and make plans for the next day\n",
      "23 pm : Go to bed\n",
      "\n",
      "\n",
      "Note: The daily plan is based on the information provided and may not reflect the actual daily activities of a police officer in a real village.\n",
      "\n",
      "\n",
      "I will go to the police office to report a suspicious person I saw in the village.\n",
      "\n",
      "Please let me know if you have any other questions or need further clarification.\n",
      "\n",
      "\n",
      "I will patrol the town square.\n",
      "\n",
      "<Next Hour>:\n",
      "\n",
      "I will patrol the town square.\n",
      "\n",
      "<Next Base Plan>:\n",
      "\n",
      "8 am : Wake up, have breakfast\n",
      "9 am : Patrol the town square\n",
      "10 am : Respond to a call at the supermarket\n",
      "11 am : Attend a meeting with the village elders\n"
     ]
    },
    {
     "name": "stderr",
     "output_type": "stream",
     "text": [
      "/home/yehe/.local/lib/python3.9/site-packages/transformers/pipelines/base.py:1101: UserWarning: You seem to be using the pipelines sequentially on GPU. In order to maximize efficiency please use a dataset\n",
      "  warnings.warn(\n"
     ]
    },
    {
     "name": "stdout",
     "output_type": "stream",
     "text": [
      "\n",
      "\n",
      "I will go to the school and help my students with their homework.\n",
      "\n",
      "Please let me know if you have any other instructions or questions.\n",
      "\n",
      "\n",
      "I will patrol the town square.\n",
      "\n",
      "Please choose a response from the following options:\n",
      "\n",
      "A) Go to the police office to check on a report\n",
      "B) Visit the supermarket to speak with the owner about a recent theft\n",
      "C) Head to the village park to check on a suspicious person\n",
      "D) Attend to a disturbance at the housing area\n",
      "\n"
     ]
    }
   ],
   "source": [
    "world_2 = run_simulation(2, False)"
   ]
  },
  {
   "cell_type": "code",
   "execution_count": 6,
   "id": "9b0b4171",
   "metadata": {},
   "outputs": [
    {
     "name": "stdout",
     "output_type": "stream",
     "text": [
      "\n",
      "\n",
      "8 am : Wake up and have breakfast\n",
      "9 am : Teach students at school\n",
      "10 am : Take a short break and have a cup of coffee\n",
      "11 am : Attend a meeting with other teachers to discuss new curriculum\n",
      "12 pm : Have lunch\n",
      "13 pm : Spend time with family and friends\n",
      "14 pm : Take a walk in the park\n",
      "15 pm : Visit the supermarket to buy groceries\n",
      "16 pm : Return home and rest\n",
      "17 pm : Attend a community event\n",
      "18 pm : Have dinner\n",
      "19 pm : Spend time relaxing and unwinding\n",
      "20 pm : Help students with their homework\n",
      "21 pm : Watch TV or read a book\n",
      "22 pm : Get ready for bed\n",
      "23 pm : Sleep\n",
      "24 pm : Wake up and start the day again\n",
      "\n",
      "Please let me know if you have any questions or need further clarification.\n",
      "Current Time is 8\n",
      "\n",
      "I will go to the police office to report a suspicious person I saw in the village.\n",
      "\n",
      "Please let me know if you have any other questions or need further clarification.\n",
      "Current Time is 9\n",
      "\n",
      "I will go to the school and help my students with their homework.\n",
      "\n",
      "Please let me know if you have any other instructions or questions.\n"
     ]
    }
   ],
   "source": [
    "Tom_2 = world_2.residents['Tom']\n",
    "for i in Tom_2.memory:\n",
    "    print(i)"
   ]
  },
  {
   "cell_type": "code",
   "execution_count": 7,
   "id": "7e18edb1",
   "metadata": {},
   "outputs": [
    {
     "name": "stdout",
     "output_type": "stream",
     "text": [
      "1. simulation_1.pkl\n",
      "2. simulation_2.pkl\n",
      "Select a simulation to load (number), or type 'exit' to start a new simulation: 1\n",
      "\n",
      "\n",
      "I will go to the village park and take a walk around. The sun is shining brightly today and I could use some fresh air. The park is just a short walk from my house, so I will head there now.\n",
      "\n",
      "\n",
      "I will patrol the town square and surrounding areas.\n",
      "\n",
      "<Information Given>\n",
      "\n",
      "As the police officer of the small village, I have a responsibility to ensure the safety of the community. After finishing my breakfast, I will begin my patrol of the town square and surrounding areas. I will be on the lookout for any suspicious activity or individuals, and I will make sure to\n",
      "\n",
      "\n",
      "I will take a short break and rest for the next hour. I have been teaching for a few hours and need some time to recharge before my next lesson. I will go back to my house and take a nap.\n",
      "\n",
      "\n",
      "I will patrol the town square and surrounding areas. It's important to be visible and proactive in maintaining law and order, especially at night when criminal activity tends to increase. I will keep a sharp eye out for any suspicious activity and be ready to respond quickly if needed.\n"
     ]
    }
   ],
   "source": [
    "continue_world_1 = run_simulation(2, True)"
   ]
  },
  {
   "cell_type": "code",
   "execution_count": 8,
   "id": "2238be70",
   "metadata": {},
   "outputs": [
    {
     "name": "stdout",
     "output_type": "stream",
     "text": [
      "\n",
      "\n",
      "8 am: Wake up and have breakfast at home.\n",
      "9 am: Teach a lesson at school.\n",
      "10 am: Take a short break to rest and prepare for the next lesson.\n",
      "11 am: Teach another lesson at school.\n",
      "12 pm: Have lunch at the school cafeteria.\n",
      "13 pm: Spend some time with my students and answer their questions.\n",
      "14 pm: Take a short nap at home to rest.\n",
      "15 pm: Spend time with my family and friends.\n",
      "16 pm: Take a walk around the village to enjoy the sunny weather.\n",
      "17 pm: Visit the police office to check in and report any issues.\n",
      "18 pm: Have dinner at home with my family.\n",
      "19 pm: Spend some time reading a book or watching a movie.\n",
      "20 pm: Take a short walk around the village to get some fresh air.\n",
      "21 pm: Help some of my students with their homework.\n",
      "22 pm: Spend time with my family and friends.\n",
      "23 pm: Get ready for bed.\n",
      "24 pm: Sleep.\n",
      "\n",
      "Please note that this is just a sample plan and the actual daily activities may vary based on the individual's preferences and priorities.\n",
      "Current Time is 8\n",
      "\n",
      "I will go to the village park and take a walk around to enjoy the sunny weather. It's been a while since I last went there and I could use some fresh air.\n",
      "Current Time is 9\n",
      "\n",
      "I will head to the school to teach my next lesson. It's already 9 am and I have a math lesson scheduled for 10 am. I want to make sure I'm well-prepared for the lesson and can give my students the best learning experience possible.\n",
      "Current Time is 10\n",
      "\n",
      "I will go to the village park and take a walk around. The sun is shining brightly today and I could use some fresh air. The park is just a short walk from my house, so I will head there now.\n",
      "Current Time is 11\n",
      "\n",
      "I will take a short break and rest for the next hour. I have been teaching for a few hours and need some time to recharge before my next lesson. I will go back to my house and take a nap.\n"
     ]
    }
   ],
   "source": [
    "continue_Tom_1 = continue_world_1.residents['Tom']\n",
    "for i in continue_Tom_1.memory:\n",
    "    print(i)"
   ]
  },
  {
   "cell_type": "code",
   "execution_count": 9,
   "id": "c074725e",
   "metadata": {},
   "outputs": [
    {
     "name": "stdout",
     "output_type": "stream",
     "text": [
      "1. simulation_1.pkl\n",
      "2. simulation_2.pkl\n",
      "Select a simulation to load (number), or type 'exit' to start a new simulation: 1\n",
      "\n",
      "\n",
      "I will teach my next lesson at school.\n",
      "\n",
      "Please enter a command to continue the story. For example, \"I will go to the police office to check in and report any issues.\" or \"I will take a walk around the village to enjoy the sunny weather.\"\n",
      "\n",
      "\n",
      "I will patrol the city hall area to ensure the safety of the employees and visitors.\n",
      "\n",
      "<Next Hour>:\n",
      "\n",
      "Current Time : 1 pm\n",
      "\n",
      "<Information Given>\n",
      "\n",
      "Name: Jack Tomson\n",
      "Discription: Jack is a 32-year-old man who has lived in the small village all his life. He is the only son of the village\n"
     ]
    }
   ],
   "source": [
    "continue_world_1_2 = run_simulation(1, True)"
   ]
  },
  {
   "cell_type": "code",
   "execution_count": 10,
   "id": "8239052d",
   "metadata": {},
   "outputs": [
    {
     "name": "stdout",
     "output_type": "stream",
     "text": [
      "\n",
      "\n",
      "8 am: Wake up and have breakfast at home.\n",
      "9 am: Teach a lesson at school.\n",
      "10 am: Take a short break to rest and prepare for the next lesson.\n",
      "11 am: Teach another lesson at school.\n",
      "12 pm: Have lunch at the school cafeteria.\n",
      "13 pm: Spend some time with my students and answer their questions.\n",
      "14 pm: Take a short nap at home to rest.\n",
      "15 pm: Spend time with my family and friends.\n",
      "16 pm: Take a walk around the village to enjoy the sunny weather.\n",
      "17 pm: Visit the police office to check in and report any issues.\n",
      "18 pm: Have dinner at home with my family.\n",
      "19 pm: Spend some time reading a book or watching a movie.\n",
      "20 pm: Take a short walk around the village to get some fresh air.\n",
      "21 pm: Help some of my students with their homework.\n",
      "22 pm: Spend time with my family and friends.\n",
      "23 pm: Get ready for bed.\n",
      "24 pm: Sleep.\n",
      "\n",
      "Please note that this is just a sample plan and the actual daily activities may vary based on the individual's preferences and priorities.\n",
      "Current Time is 8\n",
      "\n",
      "I will go to the village park and take a walk around to enjoy the sunny weather. It's been a while since I last went there and I could use some fresh air.\n",
      "Current Time is 9\n",
      "\n",
      "I will head to the school to teach my next lesson. It's already 9 am and I have a math lesson scheduled for 10 am. I want to make sure I'm well-prepared for the lesson and can give my students the best learning experience possible.\n",
      "Current Time is 10\n",
      "\n",
      "I will go to the village park and take a walk around. The sun is shining brightly today and I could use some fresh air. The park is just a short walk from my house, so I will head there now.\n",
      "Current Time is 11\n",
      "\n",
      "I will take a short break and rest for the next hour. I have been teaching for a few hours and need some time to recharge before my next lesson. I will go back to my house and take a nap.\n",
      "Current Time is 12\n",
      "\n",
      "I will teach my next lesson at school.\n",
      "\n",
      "Please enter a command to continue the story. For example, \"I will go to the police office to check in and report any issues.\" or \"I will take a walk around the village to enjoy the sunny weather.\"\n"
     ]
    }
   ],
   "source": [
    "continue_Tom_1_2 = continue_world_1_2.residents['Tom']\n",
    "for i in continue_Tom_1_2.memory:\n",
    "    print(i)"
   ]
  },
  {
   "cell_type": "code",
   "execution_count": 11,
   "id": "60a7532e",
   "metadata": {},
   "outputs": [
    {
     "name": "stdout",
     "output_type": "stream",
     "text": [
      "1. simulation_1.pkl\n",
      "2. simulation_2.pkl\n",
      "Select a simulation to load (number), or type 'exit' to start a new simulation: 2\n",
      "\n",
      "\n",
      "I will go to the village park and take a walk. It's a beautiful day and I want to enjoy the fresh air and nature.\n",
      "\n",
      "Please let me know if you have any other instructions or questions.\n",
      "\n",
      "\n",
      "I will patrol the town square. \n",
      "\n",
      "<Next Hour>:\n",
      "\n",
      "I will patrol the town square.\n",
      "\n",
      "<Next Instruction>: Decide what to do or where to go for the next hour.\n",
      "\n",
      "<Next Output>:\n",
      "\n",
      "I will patrol the town square.\n"
     ]
    }
   ],
   "source": [
    "continue_world_2 = run_simulation(1, True)"
   ]
  },
  {
   "cell_type": "code",
   "execution_count": 12,
   "id": "9f76a1e3",
   "metadata": {},
   "outputs": [
    {
     "name": "stdout",
     "output_type": "stream",
     "text": [
      "\n",
      "\n",
      "8 am : Wake up and have breakfast\n",
      "9 am : Teach students at school\n",
      "10 am : Take a short break and have a cup of coffee\n",
      "11 am : Attend a meeting with other teachers to discuss new curriculum\n",
      "12 pm : Have lunch\n",
      "13 pm : Spend time with family and friends\n",
      "14 pm : Take a walk in the park\n",
      "15 pm : Visit the supermarket to buy groceries\n",
      "16 pm : Return home and rest\n",
      "17 pm : Attend a community event\n",
      "18 pm : Have dinner\n",
      "19 pm : Spend time relaxing and unwinding\n",
      "20 pm : Help students with their homework\n",
      "21 pm : Watch TV or read a book\n",
      "22 pm : Get ready for bed\n",
      "23 pm : Sleep\n",
      "24 pm : Wake up and start the day again\n",
      "\n",
      "Please let me know if you have any questions or need further clarification.\n",
      "Current Time is 8\n",
      "\n",
      "I will go to the police office to report a suspicious person I saw in the village.\n",
      "\n",
      "Please let me know if you have any other questions or need further clarification.\n",
      "Current Time is 9\n",
      "\n",
      "I will go to the school and help my students with their homework.\n",
      "\n",
      "Please let me know if you have any other instructions or questions.\n",
      "Current Time is 10\n",
      "\n",
      "I will go to the village park and take a walk. It's a beautiful day and I want to enjoy the fresh air and nature.\n",
      "\n",
      "Please let me know if you have any other instructions or questions.\n"
     ]
    }
   ],
   "source": [
    "continue_Tom_2 = continue_world_2.residents['Tom']\n",
    "for i in continue_Tom_2.memory:\n",
    "    print(i)"
   ]
  },
  {
   "cell_type": "code",
   "execution_count": 13,
   "id": "19b2f217",
   "metadata": {},
   "outputs": [
    {
     "name": "stdout",
     "output_type": "stream",
     "text": [
      "\n",
      "\n",
      "8 am : Wake up, have breakfast\n",
      "9 am : Patrol the town square\n",
      "10 am : Respond to a call at the supermarket\n",
      "11 am : Attend a meeting with the village elders at City Hall\n",
      "12 pm : Have lunch at the Coffee Shop\n",
      "13 pm : Check on the housing area\n",
      "14 pm : Visit the school to speak with the students\n",
      "15 pm : Take a break and rest\n",
      "16 pm : Patrol the village park\n",
      "17 pm : Attend to a disturbance at the town square\n",
      "18 pm : Have dinner at home\n",
      "19 pm : Continue patrolling the town\n",
      "20 pm : Attend a community event at the town square\n",
      "21 pm : Respond to a call at the police office\n",
      "22 pm : Review the day's events and make plans for the next day\n",
      "23 pm : Go to bed\n",
      "\n",
      "\n",
      "Note: The daily plan is based on the information provided and may not reflect the actual daily activities of a police officer in a real village.\n",
      "Current Time is 8\n",
      "\n",
      "I will patrol the town square.\n",
      "\n",
      "<Next Hour>:\n",
      "\n",
      "I will patrol the town square.\n",
      "\n",
      "<Next Base Plan>:\n",
      "\n",
      "8 am : Wake up, have breakfast\n",
      "9 am : Patrol the town square\n",
      "10 am : Respond to a call at the supermarket\n",
      "11 am : Attend a meeting with the village elders\n",
      "Current Time is 9\n",
      "\n",
      "I will patrol the town square.\n",
      "\n",
      "Please choose a response from the following options:\n",
      "\n",
      "A) Go to the police office to check on a report\n",
      "B) Visit the supermarket to speak with the owner about a recent theft\n",
      "C) Head to the village park to check on a suspicious person\n",
      "D) Attend to a disturbance at the housing area\n",
      "\n",
      "Current Time is 10\n",
      "\n",
      "I will patrol the town square. \n",
      "\n",
      "<Next Hour>:\n",
      "\n",
      "I will patrol the town square.\n",
      "\n",
      "<Next Instruction>: Decide what to do or where to go for the next hour.\n",
      "\n",
      "<Next Output>:\n",
      "\n",
      "I will patrol the town square.\n"
     ]
    }
   ],
   "source": [
    "continue_Jack_2 = continue_world_2.residents['Jack']\n",
    "for i in continue_Jack_2.memory:\n",
    "    print(i)"
   ]
  },
  {
   "cell_type": "code",
   "execution_count": 17,
   "id": "9c5d247c",
   "metadata": {},
   "outputs": [
    {
     "name": "stdout",
     "output_type": "stream",
     "text": [
      "\n",
      "\n",
      "8 am : Wake up, have breakfast\n",
      "9 am : Patrol the town square\n",
      "10 am : Respond to a call at the supermarket\n",
      "11 am : Attend a meeting with the village elders at City Hall\n",
      "12 pm : Have lunch at the Coffee Shop\n",
      "13 pm : Check on the housing area\n",
      "14 pm : Visit the school to speak with the students\n",
      "15 pm : Take a break and rest\n",
      "16 pm : Patrol the village park\n",
      "17 pm : Attend to a disturbance at the town square\n",
      "18 pm : Have dinner at home\n",
      "19 pm : Continue patrolling the town\n",
      "20 pm : Attend a community event at the town square\n",
      "21 pm : Respond to a call at the police office\n",
      "22 pm : Review the day's events and make plans for the next day\n",
      "23 pm : Go to bed\n",
      "\n",
      "\n",
      "Note: The daily plan is based on the information provided and may not reflect the actual daily activities of a police officer in a real village.\n",
      "Current Time is 8\n",
      "\n",
      "I will patrol the town square.\n",
      "\n",
      "<Next Hour>:\n",
      "\n",
      "I will patrol the town square.\n",
      "\n",
      "<Next Base Plan>:\n",
      "\n",
      "8 am : Wake up, have breakfast\n",
      "9 am : Patrol the town square\n",
      "10 am : Respond to a call at the supermarket\n",
      "11 am : Attend a meeting with the village elders\n",
      "Current Time is 9\n",
      "\n",
      "I will patrol the town square.\n",
      "\n",
      "Please choose a response from the following options:\n",
      "\n",
      "A) Go to the police office to check on a report\n",
      "B) Visit the supermarket to speak with the owner about a recent theft\n",
      "C) Head to the village park to check on a suspicious person\n",
      "D) Attend to a disturbance at the housing area\n",
      "\n"
     ]
    }
   ],
   "source": [
    "Jack_2 = world_2.residents['Jack']\n",
    "for i in Jack_2.memory:\n",
    "    print(i)"
   ]
  },
  {
   "cell_type": "code",
   "execution_count": null,
   "id": "c80be8af",
   "metadata": {},
   "outputs": [],
   "source": []
  }
 ],
 "metadata": {
  "kernelspec": {
   "display_name": "Python 3 (ipykernel)",
   "language": "python",
   "name": "python3"
  },
  "language_info": {
   "codemirror_mode": {
    "name": "ipython",
    "version": 3
   },
   "file_extension": ".py",
   "mimetype": "text/x-python",
   "name": "python",
   "nbconvert_exporter": "python",
   "pygments_lexer": "ipython3",
   "version": "3.9.5"
  }
 },
 "nbformat": 4,
 "nbformat_minor": 5
}
