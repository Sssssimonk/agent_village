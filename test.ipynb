{
 "cells": [
  {
   "cell_type": "code",
   "execution_count": 1,
   "id": "fc87968a",
   "metadata": {},
   "outputs": [
    {
     "name": "stderr",
     "output_type": "stream",
     "text": [
      "/home/sic011/.local/lib/python3.9/site-packages/huggingface_hub/utils/_runtime.py:184: UserWarning: Pydantic is installed but cannot be imported. Please check your installation. `huggingface_hub` will default to not using Pydantic. Error message: '{e}'\n",
      "  warnings.warn(\n"
     ]
    },
    {
     "data": {
      "application/json": {
       "ascii": false,
       "bar_format": null,
       "colour": null,
       "elapsed": 0.008440017700195312,
       "initial": 0,
       "n": 0,
       "ncols": null,
       "nrows": null,
       "postfix": null,
       "prefix": "Loading checkpoint shards",
       "rate": null,
       "total": 2,
       "unit": "it",
       "unit_divisor": 1000,
       "unit_scale": false
      },
      "application/vnd.jupyter.widget-view+json": {
       "model_id": "2e83e4f3f69d437288ec4e41c1f08ada",
       "version_major": 2,
       "version_minor": 0
      },
      "text/plain": [
       "Loading checkpoint shards:   0%|          | 0/2 [00:00<?, ?it/s]"
      ]
     },
     "metadata": {},
     "output_type": "display_data"
    },
    {
     "name": "stdout",
     "output_type": "stream",
     "text": [
      "hf_model_initialized\n"
     ]
    }
   ],
   "source": [
    "from main import *"
   ]
  },
  {
   "cell_type": "code",
   "execution_count": 2,
   "id": "a75c2bc6",
   "metadata": {},
   "outputs": [
    {
     "name": "stdout",
     "output_type": "stream",
     "text": [
      "World Initialized\n",
      "Agent Initialized\n"
     ]
    }
   ],
   "source": [
    "world = World()"
   ]
  },
  {
   "cell_type": "code",
   "execution_count": 3,
   "id": "3c62670b",
   "metadata": {},
   "outputs": [
    {
     "name": "stdout",
     "output_type": "stream",
     "text": [
      "promtpt/sd\n"
     ]
    }
   ],
   "source": [
    "a = \"sd\"\n",
    "print(\"promtpt/\" + a)"
   ]
  },
  {
   "cell_type": "code",
   "execution_count": 4,
   "id": "1662a0e5",
   "metadata": {},
   "outputs": [
    {
     "name": "stdout",
     "output_type": "stream",
     "text": [
      "<Information Given>\n",
      "\n",
      "Name: Tom Jackson\n",
      "Discription: Tom is a kind and dedicated school teacher who has been living in the village his entire life. He is in his late thirties and has a passion for teaching and helping others. Tom is well-respected in the community and is loved by his students for his patience and understanding.\n",
      "Personality: Passionate, kind, Brave\n",
      "Town Areas: dict_keys(['Town Square', 'Police Office', 'Supermarket', 'Village Park', 'City Hall', 'Coffee Shop', 'Housing Area', 'School'])\n",
      "Current Location: Town Square\n",
      "\n",
      "<Instruction>: Based on the information given, create a daily plan for this person. Use first-person perspective\n",
      "\n",
      "<Output format>:\n",
      "\n",
      "8 am : \n",
      "9 am :\n",
      "10 am:\n",
      "...\n",
      "24 pm :\n"
     ]
    }
   ],
   "source": [
    "prompt = generate_prompt(\"daily_plan\", world.residents[\"Tom\"], world)\n",
    "print(prompt)"
   ]
  },
  {
   "cell_type": "code",
   "execution_count": 5,
   "id": "ce4debdb",
   "metadata": {},
   "outputs": [
    {
     "data": {
      "text/plain": [
       "[{'generated_text': \"<Information Given>\\n\\nName: Tom Jackson\\nDiscription: Tom is a kind and dedicated school teacher who has been living in the village his entire life. He is in his late thirties and has a passion for teaching and helping others. Tom is well-respected in the community and is loved by his students for his patience and understanding.\\nPersonality: Passionate, kind, Brave\\nTown Areas: dict_keys(['Town Square', 'Police Office', 'Supermarket', 'Village Park', 'City Hall', 'Coffee Shop', 'Housing Area', 'School'])\\nCurrent Location: Town Square\\n\\n<Instruction>: Based on the information given, create a daily plan for this person. Use first-person perspective\\n\\n<Output format>:\\n\\n8 am : \\n9 am :\\n10 am:\\n...\\n24 pm :\\n\\nPlease provide the daily plan for Tom Jackson.\"}]"
      ]
     },
     "execution_count": 5,
     "metadata": {},
     "output_type": "execute_result"
    }
   ],
   "source": [
    "generate_response(prompt)"
   ]
  },
  {
   "cell_type": "code",
   "execution_count": null,
   "id": "10d01b17",
   "metadata": {},
   "outputs": [],
   "source": []
  }
 ],
 "metadata": {
  "kernelspec": {
   "display_name": "ga_kernel",
   "language": "python",
   "name": "ga_kernel"
  },
  "language_info": {
   "codemirror_mode": {
    "name": "ipython",
    "version": 3
   },
   "file_extension": ".py",
   "mimetype": "text/x-python",
   "name": "python",
   "nbconvert_exporter": "python",
   "pygments_lexer": "ipython3",
   "version": "3.9.12"
  }
 },
 "nbformat": 4,
 "nbformat_minor": 5
}
