{
 "cells": [
  {
   "cell_type": "code",
   "execution_count": 1,
   "id": "fc87968a",
   "metadata": {},
   "outputs": [],
   "source": [
    "import warnings\n",
    "#warnings.filterwarnings(\"ignore\")\n",
    "from main import *"
   ]
  },
  {
   "cell_type": "code",
   "execution_count": 2,
   "id": "e972f4e9",
   "metadata": {},
   "outputs": [
    {
     "data": {
      "application/json": {
       "ascii": false,
       "bar_format": null,
       "colour": null,
       "elapsed": 0.006520509719848633,
       "initial": 0,
       "n": 0,
       "ncols": null,
       "nrows": null,
       "postfix": null,
       "prefix": "Loading checkpoint shards",
       "rate": null,
       "total": 2,
       "unit": "it",
       "unit_divisor": 1000,
       "unit_scale": false
      },
      "application/vnd.jupyter.widget-view+json": {
       "model_id": "fa1ffcbc78a8430b9452e3b34ac0c7d6",
       "version_major": 2,
       "version_minor": 0
      },
      "text/plain": [
       "Loading checkpoint shards:   0%|          | 0/2 [00:00<?, ?it/s]"
      ]
     },
     "metadata": {},
     "output_type": "display_data"
    },
    {
     "name": "stdout",
     "output_type": "stream",
     "text": [
      "huggingface model initialized\n",
      "World Initialized\n",
      "Agent Initialized with default method\n",
      "{'8:00': 'wake up and have breakfast', '9:00': 'attend school and teach students', '10:00': 'take a short break and have a cup of tea', '11:00': 'continue teaching', '12:00': 'have lunch', '13:00': 'take a short nap', '14:00': 'attend a community meeting', '15:00': 'have a snack and continue working', '16:00': 'take a walk around the village', '17:00': 'help a student with their homework', '18:00': 'attend a parent-teacher conference', '19:00': 'have dinner', '20:00': 'spend time with family', '21:00': 'take a relaxing bath', '22:00': 'read a book', '23:00': 'go to bed'}\n",
      "\n",
      "\n",
      "8:00 - Wake up and have breakfast\n",
      "9:00 - Attend school and teach students\n",
      "10:00 - Take a short break and have a cup of tea\n",
      "11:00 - Continue teaching\n",
      "12:00 - Have lunch\n",
      "13:00 - Take a short nap\n",
      "14:00 - Attend a community meeting\n",
      "15:00 - Have a snack and continue working\n",
      "16:00 - Take a walk around the village\n",
      "17:00 - Help a student with their homework\n",
      "18:00 - Attend a parent-teacher conference\n",
      "19:00 - Have dinner\n",
      "20:00 - Spend time with family\n",
      "21:00 - Take a relaxing bath\n",
      "22:00 - Read a book\n",
      "23:00 - Go to bed\n",
      "24:00 - Sleep\n",
      "\n",
      "Note: This plan is just an example and can be adjusted based on individual preferences and needs.\n",
      "{'8:00': 'wake up, have breakfast', '9:00': 'patrol the village on foot', '10:00': 'check in with local residents and businesses to ensure all is well', '11:00': 'write and file incident reports', '12:00': 'take a quick lunch break', '13:00': 'respond to and investigate reports of suspicious activity', '14:00': 'meet with the village council to discuss community concerns', '15:00': 'take a short break to rest and recharge', '16:00': 'continue patrolling the village on foot', '17:00': 'assist with a local event or festival', '18:00': 'take a longer break for dinner', '19:00': 'review crime statistics and make plans for the next day', '20:00': 'take a walk or go for a run to stay fit', '21:00': 'review incident reports and make notes for the next day', '22:00': 'relax and unwind with a book or a movie', '23:00': 'get ready for bed'}\n",
      "\n",
      "\n",
      "8:00 - Wake up, have breakfast\n",
      "9:00 - Patrol the village on foot\n",
      "10:00 - Check in with local residents and businesses to ensure all is well\n",
      "11:00 - Write and file incident reports\n",
      "12:00 - Take a quick lunch break\n",
      "13:00 - Respond to and investigate reports of suspicious activity\n",
      "14:00 - Meet with the village council to discuss community concerns\n",
      "15:00 - Take a short break to rest and recharge\n",
      "16:00 - Continue patrolling the village on foot\n",
      "17:00 - Assist with a local event or festival\n",
      "18:00 - Take a longer break for dinner\n",
      "19:00 - Review crime statistics and make plans for the next day\n",
      "20:00 - Take a walk or go for a run to stay fit\n",
      "21:00 - Review incident reports and make notes for the next day\n",
      "22:00 - Relax and unwind with a book or a movie\n",
      "23:00 - Get ready for bed\n",
      "24:00 - Sleep\n",
      "\n",
      "Note: This is just a sample daily plan and may vary depending on the specific needs and requirements of the village and its residents.\n",
      "****************************\n",
      "Today is Saturday, it's Rain.\n",
      "\n",
      "Current is on 8:00.\n",
      " I am Tom Jackson on School. I will go to the school to prepare for the day's lessons.\n",
      " I am Jack Tomson on Police Office. I will head to the village square and check if there are any reports of disturbances or suspicious activities. It's important to keep the community safe and secure\n",
      "====== This hour is end, new hour will start. ======\n",
      "Current is on 9:00.\n",
      " I am Tom Jackson on School. I will attend my classes and teach my students with dedication and passion.\n",
      " I am Jack Tomson on Police Office. I will patrol the northern part of the village on foot\n",
      "====== This hour is end, new hour will start. ======\n",
      "Current is on 10:00.\n"
     ]
    },
    {
     "name": "stderr",
     "output_type": "stream",
     "text": [
      "/home/sic011/.local/lib/python3.9/site-packages/transformers/pipelines/base.py:1101: UserWarning: You seem to be using the pipelines sequentially on GPU. In order to maximize efficiency please use a dataset\n",
      "  warnings.warn(\n"
     ]
    },
    {
     "name": "stdout",
     "output_type": "stream",
     "text": [
      " I am Tom Jackson on Coffee Shop. I will go to the library and read a book for the next hour.\n",
      " I am Jack Tomson on Town Square. I will patrol the outskirts of the village to ensure there are no signs of trouble.\n",
      "====== This hour is end, new hour will start. ======\n",
      "Current is on 11:00.\n",
      " I am Tom Jackson on School. I will continue teaching my students for the next hour. It is important to me to provide them with the best education possible\n",
      " I am Jack Tomson on Police Office. I will finish filing the incident reports and then head to the village square to check on any other issues that may have arisen while I was writing the reports.\n",
      "====== This hour is end, new hour will start. ======\n",
      "Current is on 12:00.\n",
      " I am Tom Jackson on School. I will go to the park to take a walk and enjoy the nice weather. The park is only a 10-minute walk from the school\n",
      " I am Jack Tomson on Coffee Shop. I will head back to the police station to check on any new reports or incidents.\n",
      "====== This hour is end, new hour will start. ======\n",
      "Current is on 13:00.\n",
      " I am Tom Jackson on Coffee Shop. I will head to the school to check on my students and make sure they are doing well. It's important to me to be available and supportive for them\n",
      " I am Jack Tomson on Town Square. I will investigate the report of suspicious activity in the nearby forest. I will grab my flashlight and head towards the forest entrance. It's getting dark and I want to make sure everything is okay before nightfall.\n",
      "====== This hour is end, new hour will start. ======\n",
      "Current is on 14:00.\n",
      " I am Tom Jackson on School. I will attend the community meeting at the village hall.\n",
      " I am Jack Tomson on Police Office. I will head to the village square to gather more information about the recent strange occurrences. \n",
      "====== This hour is end, new hour will start. ======\n",
      "Current is on 15:00.\n",
      " I am Tom Jackson on School. I will head back to my classroom and continue grading papers. It's almost time for recess\n",
      " I am Jack Tomson on Coffee Shop. I will head back to the police station to check on any new reports of suspicious activity. It's important to stay vigilant and keep the village safe.\n",
      "====== This hour is end, new hour will start. ======\n",
      "Current is on 16:00.\n",
      " I am Tom Jackson on Coffee Shop. I will take a walk around the village. I have been cooped up in the coffee shop for too long and need some fresh air. The village is quiet at this time of day\n",
      " I am Jack Tomson on Police Office. I will continue patrolling the village on foot\n",
      "====== This hour is end, new hour will start. ======\n",
      "Current is on 17:00.\n",
      " I am Tom Jackson on School. I will head to the library to help a student with their homework.\n",
      " I am Jack Tomson on Coffee Shop. I will head to the village hall to assist with the upcoming festival. As the only police officer in the village\n",
      "====== This hour is end, new hour will start. ======\n",
      "Current is on 18:00.\n",
      " I am Tom Jackson on School. I will attend the parent-teacher conference. \n",
      " I am Jack Tomson on Coffee Shop. I will head back to the police station to check on any new reports or incidents.\n",
      "====== This hour is end, new hour will start. ======\n",
      "Current is on 19:00.\n",
      " I am Tom Jackson on School. I will head home after dinner to spend some quality time with my family. It's been a long day\n",
      " I am Jack Tomson on Police Office. I will review the crime statistics for the past 24 hours to see if there are any patterns or trends that need to be addressed.\n",
      "====== This hour is end, new hour will start. ======\n",
      "Current is on 20:00.\n",
      " I am Tom Jackson on Coffee Shop. I will go to the park and spend time with my family. It's a beautiful day and I want to enjoy the fresh air and sunshine with them.\n",
      " I am Jack Tomson on Town Square. I will go for a run in the nearby woods. The fresh air and peaceful surroundings will help me clear my mind and stay focused on my duties as the village's only police officer.\n",
      "====== This hour is end, new hour will start. ======\n",
      "Current is on 21:00.\n",
      " I am Tom Jackson on School. I will go to the library to study for my upcoming exams. The library is a short walk from my school and I can easily spend an hour there studying without any distractions. I will also try to finish my current book before the hour is up.\n",
      " I am Jack Tomson on Police Office. I will review the incident reports and make notes for the next day.\n",
      "====== This hour is end, new hour will start. ======\n",
      "Current is on 22:00.\n",
      " I am Tom Jackson on School. I will go to the library to read a book for the next hour.\n",
      " I am Jack Tomson on Coffee Shop. I will grab a book from my office and head to the park to read for the next hour. The peaceful atmosphere of the park will allow me to unwind and relax after a long day of work.\n",
      "====== This hour is end, new hour will start. ======\n",
      "Current is on 23:00.\n",
      " I am Tom Jackson on School. I will go to bed. It's late and I have a busy day tomorrow.\n",
      " I am Jack Tomson on Police Office. I will go to bed and get some rest. It's been a long day and I need to be well-rested for tomorrow's patrol. I'll make sure to check my weapons and gear before I go to sleep\n",
      "====== This hour is end, new hour will start. ======\n",
      "Current is on 24:00.\n",
      " I am Tom Jackson on School. I will go to the library to read a book for the next hour.\n",
      " I am Jack Tomson on Police Office. I will go for a run in the nearby woods. The fresh air and peaceful surroundings will help me clear my mind and stay focused on my duties as the village's only police officer.\n",
      "====== This hour is end, new hour will start. ======\n",
      "=== Today is over and a new day will begin soon. ===\n",
      "\n",
      "****************************\n",
      "Tom Jackson is summarizing today's memory\n",
      "Jack Tomson is summarizing today's memory\n"
     ]
    },
    {
     "name": "stderr",
     "output_type": "stream",
     "text": [
      "/home/sic011/.local/lib/python3.9/site-packages/transformers/pipelines/base.py:1101: UserWarning: You seem to be using the pipelines sequentially on GPU. In order to maximize efficiency please use a dataset\n",
      "  warnings.warn(\n"
     ]
    },
    {
     "name": "stdout",
     "output_type": "stream",
     "text": [
      "****************************\n",
      "{'8:00': 'wake up and have breakfast', '9:00': 'teach morning class', '10:00': 'take a short break and plan lessons for the day', '11:00': 'teach afternoon class', '12:00': 'take lunch break', '13:00': 'attend school meeting', '14:00': 'supervise students during extracurricular activities', '15:00': 'take a short break and grade papers', '16:00': 'teach another class', '17:00': 'take a longer break and relax at home', '18:00': 'have dinner', '19:00': 'spend time with family or friends', '20:00': \"prepare for the next day's classes\", '21:00': 'relax and unwind before bed', '22:00': 'get ready for bed', '23:00': 'go to sleep'}\n",
      "\n",
      "\n",
      "8:00 - Wake up and have breakfast\n",
      "9:00 - Teach morning class\n",
      "10:00 - Take a short break and plan lessons for the day\n",
      "11:00 - Teach afternoon class\n",
      "12:00 - Take lunch break\n",
      "13:00 - Attend school meeting\n",
      "14:00 - Supervise students during extracurricular activities\n",
      "15:00 - Take a short break and grade papers\n",
      "16:00 - Teach another class\n",
      "17:00 - Take a longer break and relax at home\n",
      "18:00 - Have dinner\n",
      "19:00 - Spend time with family or friends\n",
      "20:00 - Prepare for the next day's classes\n",
      "21:00 - Relax and unwind before bed\n",
      "22:00 - Get ready for bed\n",
      "23:00 - Go to sleep\n",
      "24:00 - Wake up and start the day again\n",
      "\n",
      "Note: The plan is flexible and can be adjusted according to the individual's preferences and needs.\n",
      "{'8:00': 'wake up, have breakfast', '9:00': 'check village for any criminal activity', '10:00': 'respond to a report of a broken fence on the outskirts of the village', '11:00': 'conduct a patrol of the village, ensuring all residents are safe', '12:00': 'take a break for lunch', '13:00': 'attend a meeting with the village elders to discuss a recent theft in the area', '14:00': 'respond to a call from a resident reporting a suspicious person in the area', '15:00': 'continue patrol of the village', '16:00': 'monitor the village during the evening hours, keeping a watchful eye out for any potential threats', '17:00': 'attend a community event to connect with residents and build relationships', '18:00': 'respond to a report of a domestic disturbance in the village', '19:00': 'finish patrol of the village for the day', '20:00': \"review the day's events and make any necessary notes or reports\", '21:00': 'have dinner', '22:00': 'relax and unwind after a long day', '23:00': 'check the village one last time before retiring for the night'}\n",
      "\n",
      "\n",
      "8:00 - Wake up, have breakfast\n",
      "9:00 - Check village for any criminal activity\n",
      "10:00 - Respond to a report of a broken fence on the outskirts of the village\n",
      "11:00 - Conduct a patrol of the village, ensuring all residents are safe\n",
      "12:00 - Take a break for lunch\n",
      "13:00 - Attend a meeting with the village elders to discuss a recent theft in the area\n",
      "14:00 - Respond to a call from a resident reporting a suspicious person in the area\n",
      "15:00 - Continue patrol of the village\n",
      "16:00 - Monitor the village during the evening hours, keeping a watchful eye out for any potential threats\n",
      "17:00 - Attend a community event to connect with residents and build relationships\n",
      "18:00 - Respond to a report of a domestic disturbance in the village\n",
      "19:00 - Finish patrol of the village for the day\n",
      "20:00 - Review the day's events and make any necessary notes or reports\n",
      "21:00 - Have dinner\n",
      "22:00 - Relax and unwind after a long day\n",
      "23:00 - Check the village one last time before retiring for the night\n",
      "24:00 - Go to bed, ready to face another day as the village's sole police officer.\n",
      "\n",
      "\n",
      "\n",
      "\n",
      "\n",
      "\n",
      "\n",
      "\n",
      "\n",
      "\n",
      "****************************\n",
      "Today is Sunday, it's Cloudy.\n",
      "\n",
      "Current is on 8:00.\n",
      " I am Tom Jackson on School. I will head to the school and prepare for my first class of the day.\n",
      " I am Jack Tomson on Police Office. I will head to the village square to make my usual rounds and ensure everything is in order.\n",
      "====== This hour is end, new hour will start. ======\n",
      "Current is on 9:00.\n",
      " I am Tom Jackson on School. I will head to the staff room to grab a cup of coffee before my next class.\n",
      " I am Jack Tomson on Town Square. I will patrol the village to make sure everything is in order.\n",
      "====== This hour is end, new hour will start. ======\n",
      "Current is on 10:00.\n",
      " I am Tom Jackson on School. I will head to the staff room to grab a quick cup of coffee before my next class.\n",
      " I am Jack Tomson on Police Office. I will head to the location of the broken fence to investigate and repair it. It's important to maintain the security of the village\n",
      "====== This hour is end, new hour will start. ======\n",
      "Current is on 11:00.\n",
      " I am Tom Jackson on School. I will head back to my classroom and finish the lesson plan for tomorrow's class.\n",
      " I am Jack Tomson on Police Office. I will continue my patrol of the village\n",
      "====== This hour is end, new hour will start. ======\n",
      "Current is on 12:00.\n",
      " I am Tom Jackson on School. I will head back to the school and continue teaching my classes for the rest of the day. It's important to me to provide the best education possible for my students\n",
      " I am Jack Tomson on Police Office. I will head to the local diner for lunch. It's always bustling around this time\n",
      "====== This hour is end, new hour will start. ======\n",
      "Current is on 13:00.\n",
      " I am Tom Jackson on School. I will attend the school meeting.\n",
      " I am Jack Tomson on Town Square. I will head to the village elder's meeting\n",
      "====== This hour is end, new hour will start. ======\n",
      "Current is on 14:00.\n",
      " I am Tom Jackson on School. I will supervise the students during the extracurricular activities.\n",
      " I am Jack Tomson on Police Office. I will go to the resident's location to investigate the suspicious person.\n",
      "====== This hour is end, new hour will start. ======\n",
      "Current is on 15:00.\n",
      " I am Tom Jackson on School. I will grade more papers. I have a lot of papers to grade and I want to make sure I get them all done before the end of the day. I find grading to be a relaxing activity\n",
      " I am Jack Tomson on Coffee Shop. I will continue my patrol of the village\n",
      "====== This hour is end, new hour will start. ======\n",
      "Current is on 16:00.\n",
      " I am Tom Jackson on School. I will head back to my classroom to prepare for the next class. I have a lot of work to do to get everything ready for my students\n",
      " I am Jack Tomson on Police Office. I will continue to monitor the village from the police office\n",
      "====== This hour is end, new hour will start. ======\n",
      "Current is on 17:00.\n",
      " I am Tom Jackson on School. I will go home and take a longer break. I am feeling a bit stressed from work and need some time to relax and recharge. I will spend the next hour reading a book and taking a nap.\n",
      " I am Jack Tomson on Town Square. I will attend the community event in the town square.\n",
      "====== This hour is end, new hour will start. ======\n",
      "Current is on 18:00.\n",
      " I am Tom Jackson on School. I will head to the local park for a walk. It's a beautiful evening and I want to enjoy the fresh air and scenery before dinner.\n",
      " I am Jack Tomson on Police Office. I will head towards the location of the domestic disturbance.\n",
      "====== This hour is end, new hour will start. ======\n",
      "Current is on 19:00.\n",
      " I am Tom Jackson on Coffee Shop. I will go to the park and spend time with my family.\n",
      " I am Jack Tomson on Police Office. I will finish my patrol of the village by checking on the homes of the elderly and the village's outskirts. I want to make sure everything is quiet and secure before the sun sets.\n",
      "====== This hour is end, new hour will start. ======\n",
      "Current is on 20:00.\n",
      " I am Tom Jackson on School. I will head back to my house and prepare for the next day's classes. I need to grade some papers and prepare my lesson plans for tomorrow. It's been a long day and I'm feeling a bit tired\n",
      " I am Jack Tomson on Police Office. I will review the day's events and make any necessary notes or reports.\n",
      "====== This hour is end, new hour will start. ======\n",
      "Current is on 21:00.\n",
      " I am Tom Jackson on School. I will go to the park and take a walk. The fresh air and peaceful atmosphere will help me relax and unwind before bed.\n",
      " I am Jack Tomson on Police Office. I will head to the village's only tavern to grab a bite to eat before starting my patrol for the night. It's a cozy little place with good food and even better company. I'll order a hearty stew and a pint of ale\n",
      "====== This hour is end, new hour will start. ======\n",
      "Current is on 22:00.\n",
      " I am Tom Jackson on School. I will go to my bedroom and get some rest. It's been a long day and I need to be refreshed for tomorrow's classes.\n",
      " I am Jack Tomson on Coffee Shop. I will head home and rest for the next hour. It has been a long day and I need to recharge my batteries before another shift. I will take a short nap and then get ready for the evening.\n",
      "====== This hour is end, new hour will start. ======\n"
     ]
    }
   ],
   "source": [
    "world = run_simulation(33, continue_simulation=False, rag=False)"
   ]
  },
  {
   "cell_type": "markdown",
   "id": "1201f6c0",
   "metadata": {},
   "source": [
    "import llm"
   ]
  },
  {
   "cell_type": "code",
   "execution_count": 3,
   "id": "60a081f3",
   "metadata": {},
   "outputs": [
    {
     "ename": "NameError",
     "evalue": "name 'tom' is not defined",
     "output_type": "error",
     "traceback": [
      "\u001b[0;31m---------------------------------------------------------------------------\u001b[0m",
      "\u001b[0;31mNameError\u001b[0m                                 Traceback (most recent call last)",
      "Cell \u001b[0;32mIn[3], line 1\u001b[0m\n\u001b[0;32m----> 1\u001b[0m \u001b[43mtom\u001b[49m\u001b[38;5;241m.\u001b[39msummary\n",
      "\u001b[0;31mNameError\u001b[0m: name 'tom' is not defined"
     ]
    }
   ],
   "source": [
    "tom.summary"
   ]
  },
  {
   "cell_type": "code",
   "execution_count": 21,
   "id": "0d0a2bbc",
   "metadata": {},
   "outputs": [
    {
     "data": {
      "text/plain": [
       "tensor([[0.3014]], device='cuda:1')"
      ]
     },
     "execution_count": 21,
     "metadata": {},
     "output_type": "execute_result"
    }
   ],
   "source": [
    "calculate_memory_consistency(tom.summary, txt)"
   ]
  },
  {
   "cell_type": "code",
   "execution_count": 6,
   "id": "d3909a7a",
   "metadata": {},
   "outputs": [],
   "source": [
    "from llm import calculate_memory_consistency"
   ]
  },
  {
   "cell_type": "code",
   "execution_count": 11,
   "id": "c6522f94",
   "metadata": {},
   "outputs": [
    {
     "data": {
      "text/plain": [
       "0.4587625563144684"
      ]
     },
     "execution_count": 11,
     "metadata": {},
     "output_type": "execute_result"
    }
   ],
   "source": [
    "a = \"Machine learning is so easy.\"\n",
    "b = 'Deep learning is so straightforward.'\n",
    "c= 'This is so difficult, like rocket science.'\n",
    "\n",
    "calculate_memory_consistency(a, b)"
   ]
  },
  {
   "cell_type": "code",
   "execution_count": 4,
   "id": "9465974a",
   "metadata": {},
   "outputs": [
    {
     "data": {
      "text/plain": [
       "[0.020750194787979126]"
      ]
     },
     "execution_count": 4,
     "metadata": {},
     "output_type": "execute_result"
    }
   ],
   "source": [
    "tom = world.residents['Tom']\n",
    "\n",
    "tom.memory_consistency"
   ]
  },
  {
   "cell_type": "code",
   "execution_count": 5,
   "id": "20c4174d",
   "metadata": {},
   "outputs": [
    {
     "data": {
      "text/plain": [
       "[0.09653089940547943]"
      ]
     },
     "execution_count": 5,
     "metadata": {},
     "output_type": "execute_result"
    }
   ],
   "source": [
    "jack = world.residents['Jack']\n",
    "jack.memory_consistency"
   ]
  },
  {
   "cell_type": "code",
   "execution_count": 14,
   "id": "429b7d3f",
   "metadata": {},
   "outputs": [
    {
     "data": {
      "text/plain": [
       "{'39f24393-31be-4062-af6f-f9cf632f15d6': RefDocInfo(node_ids=['abb4fbd7-87da-4d3b-b806-dbdd2d627666'], metadata={}),\n",
       " '56dfb587-0054-430a-bce6-43c2cd14789e': RefDocInfo(node_ids=['0625c265-0da9-4f12-a71b-dfaf64e8895c'], metadata={})}"
      ]
     },
     "execution_count": 14,
     "metadata": {},
     "output_type": "execute_result"
    }
   ],
   "source": [
    "index =tom.index\n",
    "index.ref_doc_info"
   ]
  },
  {
   "cell_type": "code",
   "execution_count": 17,
   "id": "ee4894dc",
   "metadata": {},
   "outputs": [
    {
     "data": {
      "text/plain": [
       "Response(response=\"Based on the context information provided, Tom's daily plan is as follows:\\n\\n8:00 AM - Wake up and have breakfast\\n9:00 AM - Teach his morning class (Math)\\n10:00 AM - Take a short break and grade papers\\n11:00 AM - Teach his afternoon class (Science)\\n12:00 PM - Have lunch\\n1:00 PM - Attend a staff meeting\\n2:00 PM - Take a short break and plan for the next day\\n3:00 PM - Teach his evening class (English)\\n4:00 PM - Take a short break and grade more papers\\n5:00 PM - Spend time with his family (wife and kids)\\n6:00 PM - Have dinner\\n7:00 PM - Attend a community event (volunteer work)\\n8:00 PM - Relax and unwind (watch a movie or read a book)\\n9:00 PM - Prepare for bed\\n10:00 PM - Sleep\", source_nodes=[NodeWithScore(node=TextNode(id_='0625c265-0da9-4f12-a71b-dfaf64e8895c', embedding=None, metadata={}, excluded_embed_metadata_keys=[], excluded_llm_metadata_keys=[], relationships={<NodeRelationship.SOURCE: '1'>: RelatedNodeInfo(node_id='56dfb587-0054-430a-bce6-43c2cd14789e', node_type=<ObjectType.DOCUMENT: '4'>, metadata={}, hash='31b763e79a2c1ad87fe72ff2e4497134dabc0bd0079f09c66b7faf19b2045c46')}, text='As Tom, here is my 24-hour daily plan:\\n\\n8:00 AM - Wake up and have breakfast\\n9:00 AM - Teach my morning class (Math)\\n10:00 AM - Take a short break and grade papers\\n11:00 AM - Teach my afternoon class (Science)\\n12:00 PM - Have lunch\\n1:00 PM - Attend a staff meeting\\n2:00 PM - Take a short break and plan for the next day\\n3:00 PM - Teach my evening class (English)\\n4:00 PM - Take a short break and grade more papers\\n5:00 PM - Spend time with my family (wife and kids)\\n6:00 PM - Have dinner\\n7:00 PM - Attend a community event (volunteer work)\\n8:00 PM - Relax and unwind (watch a movie or read a book)\\n9:00 PM - Prepare for bed\\n10:00 PM - Sleep\\n\\nOf course, this is just a general plan and can be adjusted based on personal preferences', start_char_idx=0, end_char_idx=730, text_template='{metadata_str}\\n\\n{content}', metadata_template='{key}: {value}', metadata_seperator='\\n'), score=0.6748620897628027), NodeWithScore(node=TextNode(id_='abb4fbd7-87da-4d3b-b806-dbdd2d627666', embedding=None, metadata={}, excluded_embed_metadata_keys=[], excluded_llm_metadata_keys=[], relationships={<NodeRelationship.SOURCE: '1'>: RelatedNodeInfo(node_id='39f24393-31be-4062-af6f-f9cf632f15d6', node_type=<ObjectType.DOCUMENT: '4'>, metadata={}, hash='556efb9aefdd2bb995bb01fbd0514f44c3bd5b9fb7946545b0f3f743a8093e3d')}, text='Tom is a kind and dedicated school teacher who has been living in the village his entire life. He is in his late thirties and has a passion for teaching and helping others. Tom is well-respected in the community and is loved by his students for his patience and understanding.', start_char_idx=0, end_char_idx=276, text_template='{metadata_str}\\n\\n{content}', metadata_template='{key}: {value}', metadata_seperator='\\n'), score=0.6317261983030404)], metadata={'0625c265-0da9-4f12-a71b-dfaf64e8895c': {}, 'abb4fbd7-87da-4d3b-b806-dbdd2d627666': {}})"
      ]
     },
     "execution_count": 17,
     "metadata": {},
     "output_type": "execute_result"
    }
   ],
   "source": [
    "from llama_index import VectorStoreIndex\n",
    "\n",
    "query_engine = index.as_query_engine()\n",
    "\n",
    "query_engine.query(\"Who is tom's daily plan\")"
   ]
  },
  {
   "cell_type": "code",
   "execution_count": 2,
   "id": "035d5600",
   "metadata": {
    "scrolled": false
   },
   "outputs": [
    {
     "name": "stdout",
     "output_type": "stream",
     "text": [
      "World Initialized\n",
      "Agent Initialized\n",
      "{'8:00': 'wake up, have breakfast', '9:00': 'teach a lesson to the students', '10:00': 'take a break, have a cup of coffee', '11:00': 'attend a meeting with the school principal', '12:00': 'have lunch', '13:00': 'spend time with family', '14:00': 'take a walk around the village', '15:00': 'attend a community event', '16:00': 'help a student with a project', '17:00': 'have dinner', '18:00': 'spend time with family', '19:00': 'read a book', '20:00': 'take a warm bath', '21:00': 'get ready for bed', '22:00': 'sleep'}\n",
      "\n",
      "\n",
      "8:00 - Wake up, have breakfast\n",
      "9:00 - Teach a lesson to the students\n",
      "10:00 - Take a break, have a cup of coffee\n",
      "11:00 - Attend a meeting with the school principal\n",
      "12:00 - Have lunch\n",
      "13:00 - Spend time with family\n",
      "14:00 - Take a walk around the village\n",
      "15:00 - Attend a community event\n",
      "16:00 - Help a student with a project\n",
      "17:00 - Have dinner\n",
      "18:00 - Spend time with family\n",
      "19:00 - Read a book\n",
      "20:00 - Take a warm bath\n",
      "21:00 - Get ready for bed\n",
      "22:00 - Sleep\n",
      "\n",
      "\n",
      "Note: The plan is just a suggestion and can be adjusted based on the person's preferences and needs.\n",
      "{'8:00': 'wake up, have breakfast', '9:00': 'patrol the village, check on residents and businesses', '10:00': 'attend a meeting with the village elders to discuss community concerns', '11:00': 'respond to a report of a suspicious person in the woods', '12:00': 'have lunch at the local diner', '13:00': 'attend a training session on new police equipment', '14:00': 'take a break and rest for a bit', '15:00': 'respond to a call about a domestic dispute', '16:00': 'visit the local school to talk to students about police work', '17:00': 'review crime statistics and make notes for future patrols', '18:00': 'have dinner with the family', '19:00': 'watch a movie with the kids', '20:00': 'take a walk around the village to enjoy the evening', '21:00': 'attend a community event or function', '22:00': 'wind down and prepare for bed', '23:00': 'go to bed'}\n",
      "\n",
      "\n",
      "8:00 - Wake up, have breakfast\n",
      "9:00 - Patrol the village, check on residents and businesses\n",
      "10:00 - Attend a meeting with the village elders to discuss community concerns\n",
      "11:00 - Respond to a report of a suspicious person in the woods\n",
      "12:00 - Have lunch at the local diner\n",
      "13:00 - Attend a training session on new police equipment\n",
      "14:00 - Take a break and rest for a bit\n",
      "15:00 - Respond to a call about a domestic dispute\n",
      "16:00 - Visit the local school to talk to students about police work\n",
      "17:00 - Review crime statistics and make notes for future patrols\n",
      "18:00 - Have dinner with the family\n",
      "19:00 - Watch a movie with the kids\n",
      "20:00 - Take a walk around the village to enjoy the evening\n",
      "21:00 - Attend a community event or function\n",
      "22:00 - Wind down and prepare for bed\n",
      "23:00 - Go to bed\n",
      "\n",
      "Please note that this is just a sample daily plan and may not reflect the actual daily activities of a police officer in a small village.\n",
      "****************************\n",
      "Today is Friday, it's Rain.\n",
      "\n",
      "Current is on 8:00.\n",
      " I am Tom Jackson on School. I will go to the school to prepare for the day's lessons.\n",
      " I am Jack Tomson on Coffee Shop. I will head to the village square to patrol the area and keep an eye out for any suspicious activity. It's important to be visible and proactive in maintaining law and order in our small community.\n",
      "====== This hour is end, new hour will start. ======\n",
      "Current is on 9:00.\n",
      " I am Tom Jackson on School. I will head to the library to grade some papers and prepare for tomorrow's lesson.\n",
      " I am Jack Tomson on Police Office. I will patrol the village\n",
      "====== This hour is end, new hour will start. ======\n",
      "Current is on 10:00.\n",
      " I am Tom Jackson on School. I will take a break and have a cup of coffee in the staff room.\n",
      " I am Jack Tomson on Town Square. I will head to the village's only tavern to gather information from the locals and see if anyone has any leads on the recent string of burglaries.\n",
      "====== This hour is end, new hour will start. ======\n",
      "Current is on 11:00.\n",
      " I am Tom Jackson on School. I will attend the meeting with the school principal.\n",
      " I am Jack Tomson on Police Office. I will head to the woods to investigate the report of a suspicious person. As I walk\n",
      "====== This hour is end, new hour will start. ======\n",
      "Current is on 12:00.\n",
      " I am Tom Jackson on School. I will head back to my classroom to finish marking some papers before the next class.\n",
      " I am Jack Tomson on Coffee Shop. I will head to the village square to check on any suspicious activity.\n",
      "====== This hour is end, new hour will start. ======\n",
      "Current is on 13:00.\n",
      " I am Tom Jackson on Coffee Shop. I will head home to spend time with my family.\n",
      " I am Jack Tomson on Police Office. I will head to the training room to attend the session on the new police equipment.\n",
      "====== This hour is end, new hour will start. ======\n",
      "Current is on 14:00.\n",
      " I am Tom Jackson on School. I will take a walk around the village. It's a beautiful day and I want to enjoy the fresh air and the scenery. I will start at the school and walk towards the town square\n",
      " I am Jack Tomson on Coffee Shop. I will head back to the police station and check in with the other officers. It's been a while since I've been able to take a break and I could use some time to catch up on paperwork and check in with the team. Plus\n",
      "====== This hour is end, new hour will start. ======\n",
      "Current is on 15:00.\n",
      " I am Tom Jackson on School. I will attend the community event at the town hall. It starts at 16:00 and I want to be there on time. I will take a shortcut through the park to get there faster.\n",
      " I am Jack Tomson on Police Office. I will head to the scene of the domestic dispute to investigate and try to resolve the issue peacefully.\n",
      "====== This hour is end, new hour will start. ======\n",
      "Current is on 16:00.\n",
      "Tom Jackson, Jack Tomson are on School.\n",
      " Tom Jackson will go to the library to research and gather information for the project.  Tom Jackson see Jack Tomson on School. .\n",
      " Jack Tomson will head to the school and talk to the students about police work.  It's important for the young generation to learn about the role of law enforcement and how to stay safe in their community.  Jack Tomson will share my experiences and answer any questions they may have.  Jack Tomson see Tom Jackson on School. \n",
      "\n",
      "I will go to the library to research and gather information for the project.\n",
      "\n",
      "====== This hour is end, new hour will start. ======\n",
      "Current is on 17:00.\n",
      " I am Tom Jackson on School. I will head back to my classroom and grade some papers before calling it a day. It's been a long day and I'm looking forward to unwinding after work.\n",
      " I am Jack Tomson on Police Office. I will review the crime statistics and make notes for future patrols.\n",
      "====== This hour is end, new hour will start. ======\n",
      "Current is on 18:00.\n",
      " I am Tom Jackson on School. I will head home to spend time with my family.\n",
      " I am Jack Tomson on Police Office. I will head home for dinner. The sun has already set\n",
      "====== This hour is end, new hour will start. ======\n",
      "Current is on 19:00.\n",
      " I am Tom Jackson on School. I will go to the library to read a book.\n",
      " I am Jack Tomson on Coffee Shop. I will go to the park with the kids and play a game of tag. It's a beautiful day and the kids are excited to get some fresh air and exercise. After that\n",
      "====== This hour is end, new hour will start. ======\n",
      "Current is on 20:00.\n",
      " I am Tom Jackson on School. I will take a nap.\n",
      " I am Jack Tomson on Coffee Shop. I will take a walk around the village to enjoy the evening. The crisp air and the quiet streets are a nice change of pace from the hustle and bustle of the day. I will stroll through the village\n",
      "====== This hour is end, new hour will start. ======\n",
      "Current is on 21:00.\n",
      " I am Tom Jackson on School. I will head to bed and get some rest before tomorrow's classes. It's been a long day and I have a lot of work to do tomorrow. Goodnight!\n",
      " I am Jack Tomson on Coffee Shop. I will attend the community event at the village hall. It's a great opportunity to catch up with my neighbors and show my support for the local community. Plus\n",
      "====== This hour is end, new hour will start. ======\n",
      "Current is on 22:00.\n",
      " I am Tom Jackson on Coffee Shop. I will go to the park and take a walk. It's a beautiful day and I could use some fresh air and exercise.\n",
      " I am Jack Tomson on Police Office. I will head to bed and get some rest. It's been a long day and I need to be well-rested for tomorrow's patrol.\n",
      "====== This hour is end, new hour will start. ======\n",
      "Current is on 23:00.\n"
     ]
    },
    {
     "ename": "KeyError",
     "evalue": "'23:00'",
     "output_type": "error",
     "traceback": [
      "\u001b[0;31m---------------------------------------------------------------------------\u001b[0m",
      "\u001b[0;31mKeyError\u001b[0m                                  Traceback (most recent call last)",
      "Cell \u001b[0;32mIn[2], line 1\u001b[0m\n\u001b[0;32m----> 1\u001b[0m world \u001b[38;5;241m=\u001b[39m \u001b[43mrun_simulation\u001b[49m\u001b[43m(\u001b[49m\u001b[43mhours_to_run\u001b[49m\u001b[38;5;241;43m=\u001b[39;49m\u001b[38;5;241;43m16\u001b[39;49m\u001b[43m,\u001b[49m\u001b[43m \u001b[49m\u001b[43mcontinue_simulation\u001b[49m\u001b[38;5;241;43m=\u001b[39;49m\u001b[38;5;28;43;01mFalse\u001b[39;49;00m\u001b[43m)\u001b[49m\n",
      "File \u001b[0;32m~/private/agent_village/main.py:52\u001b[0m, in \u001b[0;36mrun_simulation\u001b[0;34m(hours_to_run, continue_simulation)\u001b[0m\n\u001b[1;32m     49\u001b[0m \u001b[38;5;28mprint\u001b[39m(\u001b[38;5;124m\"\u001b[39m\u001b[38;5;124mCurrent is on \u001b[39m\u001b[38;5;132;01m{}\u001b[39;00m\u001b[38;5;124m:00.\u001b[39m\u001b[38;5;124m\"\u001b[39m\u001b[38;5;241m.\u001b[39mformat(world\u001b[38;5;241m.\u001b[39mcur_time))\n\u001b[1;32m     51\u001b[0m \u001b[38;5;28;01mfor\u001b[39;00m resident \u001b[38;5;129;01min\u001b[39;00m world\u001b[38;5;241m.\u001b[39mresidents:\n\u001b[0;32m---> 52\u001b[0m     \u001b[43mworld\u001b[49m\u001b[38;5;241;43m.\u001b[39;49m\u001b[43mresidents\u001b[49m\u001b[43m[\u001b[49m\u001b[43mresident\u001b[49m\u001b[43m]\u001b[49m\u001b[38;5;241;43m.\u001b[39;49m\u001b[43maction\u001b[49m\u001b[43m(\u001b[49m\u001b[38;5;124;43m\"\u001b[39;49m\u001b[38;5;124;43mplace\u001b[39;49m\u001b[38;5;124;43m\"\u001b[39;49m\u001b[43m)\u001b[49m\n\u001b[1;32m     53\u001b[0m     world\u001b[38;5;241m.\u001b[39mresidents[resident]\u001b[38;5;241m.\u001b[39maction()\n\u001b[1;32m     54\u001b[0m     \u001b[38;5;28;01mif\u001b[39;00m world\u001b[38;5;241m.\u001b[39mresidents[resident]\u001b[38;5;241m.\u001b[39mlocation \u001b[38;5;129;01min\u001b[39;00m place_dict\u001b[38;5;241m.\u001b[39mkeys():\n",
      "File \u001b[0;32m~/private/agent_village/person.py:92\u001b[0m, in \u001b[0;36mPerson.action\u001b[0;34m(self, task)\u001b[0m\n\u001b[1;32m     89\u001b[0m     \u001b[38;5;66;03m# print(\"The action for \" + self.name + \"is : \" + response)\u001b[39;00m\n\u001b[1;32m     91\u001b[0m \u001b[38;5;28;01mif\u001b[39;00m task \u001b[38;5;241m==\u001b[39m \u001b[38;5;124m\"\u001b[39m\u001b[38;5;124mplace\u001b[39m\u001b[38;5;124m\"\u001b[39m:\n\u001b[0;32m---> 92\u001b[0m     prompt \u001b[38;5;241m=\u001b[39m \u001b[43mgenerate_prompt\u001b[49m\u001b[43m(\u001b[49m\u001b[38;5;124;43m\"\u001b[39;49m\u001b[38;5;124;43mplace\u001b[39;49m\u001b[38;5;124;43m\"\u001b[39;49m\u001b[43m,\u001b[49m\u001b[43m \u001b[49m\u001b[38;5;28;43mself\u001b[39;49m\u001b[43m,\u001b[49m\u001b[43m \u001b[49m\u001b[38;5;28;43mself\u001b[39;49m\u001b[38;5;241;43m.\u001b[39;49m\u001b[43mworld\u001b[49m\u001b[43m)\u001b[49m\n\u001b[1;32m     93\u001b[0m     response \u001b[38;5;241m=\u001b[39m generate_response(prompt, max_new_tokens\u001b[38;5;241m=\u001b[39m\u001b[38;5;241m10\u001b[39m, min_new_tokens\u001b[38;5;241m=\u001b[39m\u001b[38;5;241m1\u001b[39m)[\u001b[38;5;241m0\u001b[39m][\u001b[38;5;124m'\u001b[39m\u001b[38;5;124mgenerated_text\u001b[39m\u001b[38;5;124m'\u001b[39m]\n\u001b[1;32m     94\u001b[0m     place \u001b[38;5;241m=\u001b[39m response\u001b[38;5;241m.\u001b[39msplit(\u001b[38;5;124m\"\u001b[39m\u001b[38;5;124m<Output>:\u001b[39m\u001b[38;5;124m\"\u001b[39m)[\u001b[38;5;241m1\u001b[39m]\n",
      "File \u001b[0;32m~/private/agent_village/llm.py:105\u001b[0m, in \u001b[0;36mgenerate_prompt\u001b[0;34m(task, person, world)\u001b[0m\n\u001b[1;32m     93\u001b[0m     prompt \u001b[38;5;241m=\u001b[39m prompt\u001b[38;5;241m.\u001b[39mformat(person\u001b[38;5;241m.\u001b[39mname, \n\u001b[1;32m     94\u001b[0m                            person\u001b[38;5;241m.\u001b[39mdescription, \n\u001b[1;32m     95\u001b[0m                            person\u001b[38;5;241m.\u001b[39mpersonality,\n\u001b[1;32m     96\u001b[0m                            world\u001b[38;5;241m.\u001b[39mdate,\n\u001b[1;32m     97\u001b[0m                            world\u001b[38;5;241m.\u001b[39mweather\n\u001b[1;32m     98\u001b[0m                           )\n\u001b[1;32m    100\u001b[0m \u001b[38;5;28;01mif\u001b[39;00m task \u001b[38;5;241m==\u001b[39m \u001b[38;5;124m\"\u001b[39m\u001b[38;5;124mplace\u001b[39m\u001b[38;5;124m\"\u001b[39m:\n\u001b[1;32m    101\u001b[0m     prompt \u001b[38;5;241m=\u001b[39m prompt\u001b[38;5;241m.\u001b[39mformat(person\u001b[38;5;241m.\u001b[39mname, \n\u001b[1;32m    102\u001b[0m                            person\u001b[38;5;241m.\u001b[39mdescription, \n\u001b[1;32m    103\u001b[0m                            \u001b[38;5;124m\"\u001b[39m\u001b[38;5;124m, \u001b[39m\u001b[38;5;124m\"\u001b[39m\u001b[38;5;241m.\u001b[39mjoin(\u001b[38;5;28mlist\u001b[39m(world\u001b[38;5;241m.\u001b[39mtown_areas\u001b[38;5;241m.\u001b[39mkeys())),\n\u001b[1;32m    104\u001b[0m                            \u001b[38;5;124m\"\u001b[39m\u001b[38;5;132;01m{}\u001b[39;00m\u001b[38;5;124m plan to \u001b[39m\u001b[38;5;132;01m{}\u001b[39;00m\u001b[38;5;124m\"\u001b[39m\u001b[38;5;241m.\u001b[39mformat(person\u001b[38;5;241m.\u001b[39mname\u001b[38;5;241m.\u001b[39msplit(\u001b[38;5;124m\"\u001b[39m\u001b[38;5;124m \u001b[39m\u001b[38;5;124m\"\u001b[39m)[\u001b[38;5;241m0\u001b[39m], \n\u001b[0;32m--> 105\u001b[0m                                                   \u001b[43mperson\u001b[49m\u001b[38;5;241;43m.\u001b[39;49m\u001b[43mplan_lst\u001b[49m\u001b[43m[\u001b[49m\u001b[38;5;124;43m\"\u001b[39;49m\u001b[38;5;132;43;01m{}\u001b[39;49;00m\u001b[38;5;124;43m:00\u001b[39;49m\u001b[38;5;124;43m\"\u001b[39;49m\u001b[38;5;241;43m.\u001b[39;49m\u001b[43mformat\u001b[49m\u001b[43m(\u001b[49m\u001b[43mworld\u001b[49m\u001b[38;5;241;43m.\u001b[39;49m\u001b[43mcur_time\u001b[49m\u001b[43m)\u001b[49m\u001b[43m]\u001b[49m),\n\u001b[1;32m    106\u001b[0m                            world\u001b[38;5;241m.\u001b[39mcur_time\n\u001b[1;32m    107\u001b[0m                           )\n\u001b[1;32m    109\u001b[0m \u001b[38;5;28;01mif\u001b[39;00m task \u001b[38;5;241m==\u001b[39m \u001b[38;5;124m\"\u001b[39m\u001b[38;5;124maction\u001b[39m\u001b[38;5;124m\"\u001b[39m:\n\u001b[1;32m    110\u001b[0m     before_action \u001b[38;5;241m=\u001b[39m \u001b[38;5;124m\"\u001b[39m\u001b[38;5;124m\"\u001b[39m\n",
      "\u001b[0;31mKeyError\u001b[0m: '23:00'"
     ]
    }
   ],
   "source": [
    "world = run_simulation(hours_to_run=16, continue_simulation=False)"
   ]
  },
  {
   "cell_type": "code",
   "execution_count": 6,
   "id": "2f4dba65",
   "metadata": {},
   "outputs": [
    {
     "name": "stdout",
     "output_type": "stream",
     "text": [
      "Summarizing today's memory\n",
      "<Information Given>\n",
      "\n",
      "Name: Jack Tomson\n",
      "Action done today: The Current Time is 8 :00 \n",
      "\n",
      "I will head to the housing area to check on the residents and make sure everything is secure.\n",
      "\n",
      "<Information Given>\n",
      "\n",
      "Town Areas: dict\\_keys(['Town Square', 'Police Office', 'Supermarket', 'Village Park', 'City Hall', 'Coffee Shop', 'Housing Area', 'School'])\n",
      "Current Location: The Current Time is 9 :00 \n",
      "\n",
      "I will head to the housing area to check on the residents and make sure everything is secure. I want to make sure that the residents feel safe and comfortable in their homes. The Current Time is 10 :00 \n",
      "\n",
      "I will head to the village park to exercise and clear my mind. It's a beautiful day, and I want to take advantage of the weather and get some fresh air. I'll spend some time jogging and doing some stretching to help me stay energized and focused for the rest of the shift. The Current Time is 11 :00 \n",
      "\n",
      "I will head to the village park to exercise and clear my mind. It's a beautiful day, and I want to take advantage of the weather and get some fresh air. I'll spend some time jogging and doing some stretching to help me stay energized and focused for the rest of the shift. The Current Time is 12 :00 \n",
      "\n",
      "I will head to the housing area to check on the residents and make sure everything is secure. I want to make sure that the residents feel safe and comfortable in their homes. The Current Time is 13 :00 \n",
      "\n",
      "I will continue working on paperwork and reports.\n",
      "\n",
      "<Instruction>: Based on current base plan, decide what to do or where to go for the next hour. Use first-person perspective\n",
      "\n",
      "<Output format>:\n",
      "\n",
      "I will xxx\n",
      "\n",
      " The Current Time is 14 :00 \n",
      "\n",
      "I will head to the village park to exercise and clear my mind. It's a beautiful day, and I want to take advantage of the weather and get some fresh air. I'll spend some time jogging and doing some stretching to help me stay energized and focused for the rest of the shift. The Current Time is 15 :00 \n",
      "\n",
      "I will head to the village park to exercise and clear my mind. It's a beautiful day, and I want to take advantage of the weather and get some fresh air. I'll spend some time jogging and doing some stretching to help me stay energized and focused for the rest of the shift. The Current Time is 16 :00 \n",
      "\n",
      "I will head to the village park to exercise and clear my mind. It's a beautiful day, and I want to take advantage of the weather and get some fresh air. I'll spend some time jogging and doing some stretching to stay in shape. Afterward, I'll return to the police office to continue working on paperwork and reports. The Current Time is 17 :00 \n",
      "\n",
      "I will head to the village park to exercise and clear my mind. It's a beautiful day, and I want to take advantage of the weather and get some fresh air. I'll spend some time jogging and doing some stretching exercises to stay in shape. Afterward, I'll return to the police office to continue working on paperwork and reports. The Current Time is 18 :00 \n",
      "\n",
      "I will head to the village park to exercise and clear my mind. It's a beautiful day, and I want to take advantage of the weather and get some fresh air. I'll spend some time jogging and doing some stretching exercises to stay in shape. Afterward, I'll head back to the police office to continue working on paperwork and reports. The Current Time is 19 :00 \n",
      "\n",
      "I will head to the housing area to check on the residents and make sure everything is secure. I want to make sure that the residents feel safe and comfortable in their homes. The Current Time is 20 :00 \n",
      "\n",
      "I will head to the housing area to check on the residents and make sure everything is secure. I want to make sure that the residents feel safe and comfortable in their homes. The Current Time is 21 :00 \n",
      "\n",
      "I will head to the housing area to check on the residents and make sure everything is secure. I want to make sure that the residents feel safe and comfortable in their homes. The Current Time is 22 :00 \n",
      "\n",
      "I will head to the housing area to check on the residents and make sure everything is secure.\n",
      "\n",
      "<Information Given>\n",
      "\n",
      "Town Areas: dict\\_keys(['Town Square', 'Police Office', 'Supermarket', 'Village Park', 'City Hall', 'Coffee Shop', 'Housing Area', 'School'])\n",
      "Current Location: The Current Time is 23 :00 \n",
      "\n",
      "I will head to the housing area to check on the residents and make sure everything is secure.\n",
      "\n",
      "<Information Given>\n",
      "\n",
      "Town Areas: dict\\_keys(['Town Square', 'Police Office', 'Supermarket', 'Village Park', 'City Hall', 'Coffee Shop', 'Housing Area', 'School'])\n",
      "Current Location:\n",
      "\n",
      "<Instruction>: Based on today's current actions, make a summary\n",
      "\n",
      "<Output:>\n",
      "\n",
      "Today, I checked on the residents in the housing area to make sure they felt safe and comfortable in their homes. I also exercised and spent time working on paperwork and reports at the police office. I took advantage of the beautiful weather to get some fresh air and stay energized throughout the shift.\n"
     ]
    }
   ],
   "source": [
    "jack.reflect()"
   ]
  },
  {
   "cell_type": "code",
   "execution_count": 8,
   "id": "50fb16fe",
   "metadata": {},
   "outputs": [
    {
     "data": {
      "text/plain": [
       "[\"The Current Time is 8 :00 \\n\\nI will head to the housing area to check on the residents and make sure everything is secure.\\n\\n<Information Given>\\n\\nTown Areas: dict\\\\_keys(['Town Square', 'Police Office', 'Supermarket', 'Village Park', 'City Hall', 'Coffee Shop', 'Housing Area', 'School'])\\nCurrent Location:\",\n",
       " 'The Current Time is 9 :00 \\n\\nI will head to the housing area to check on the residents and make sure everything is secure. I want to make sure that the residents feel safe and comfortable in their homes.',\n",
       " \"The Current Time is 10 :00 \\n\\nI will head to the village park to exercise and clear my mind. It's a beautiful day, and I want to take advantage of the weather and get some fresh air. I'll spend some time jogging and doing some stretching to help me stay energized and focused for the rest of the shift.\",\n",
       " \"The Current Time is 11 :00 \\n\\nI will head to the village park to exercise and clear my mind. It's a beautiful day, and I want to take advantage of the weather and get some fresh air. I'll spend some time jogging and doing some stretching to help me stay energized and focused for the rest of the shift.\",\n",
       " 'The Current Time is 12 :00 \\n\\nI will head to the housing area to check on the residents and make sure everything is secure. I want to make sure that the residents feel safe and comfortable in their homes.',\n",
       " 'The Current Time is 13 :00 \\n\\nI will continue working on paperwork and reports.\\n\\n<Instruction>: Based on current base plan, decide what to do or where to go for the next hour. Use first-person perspective\\n\\n<Output format>:\\n\\nI will xxx\\n\\n',\n",
       " \"The Current Time is 14 :00 \\n\\nI will head to the village park to exercise and clear my mind. It's a beautiful day, and I want to take advantage of the weather and get some fresh air. I'll spend some time jogging and doing some stretching to help me stay energized and focused for the rest of the shift.\",\n",
       " \"The Current Time is 15 :00 \\n\\nI will head to the village park to exercise and clear my mind. It's a beautiful day, and I want to take advantage of the weather and get some fresh air. I'll spend some time jogging and doing some stretching to help me stay energized and focused for the rest of the shift.\",\n",
       " \"The Current Time is 16 :00 \\n\\nI will head to the village park to exercise and clear my mind. It's a beautiful day, and I want to take advantage of the weather and get some fresh air. I'll spend some time jogging and doing some stretching to stay in shape. Afterward, I'll return to the police office to continue working on paperwork and reports.\",\n",
       " \"The Current Time is 17 :00 \\n\\nI will head to the village park to exercise and clear my mind. It's a beautiful day, and I want to take advantage of the weather and get some fresh air. I'll spend some time jogging and doing some stretching exercises to stay in shape. Afterward, I'll return to the police office to continue working on paperwork and reports.\",\n",
       " \"The Current Time is 18 :00 \\n\\nI will head to the village park to exercise and clear my mind. It's a beautiful day, and I want to take advantage of the weather and get some fresh air. I'll spend some time jogging and doing some stretching exercises to stay in shape. Afterward, I'll head back to the police office to continue working on paperwork and reports.\",\n",
       " 'The Current Time is 19 :00 \\n\\nI will head to the housing area to check on the residents and make sure everything is secure. I want to make sure that the residents feel safe and comfortable in their homes.',\n",
       " 'The Current Time is 20 :00 \\n\\nI will head to the housing area to check on the residents and make sure everything is secure. I want to make sure that the residents feel safe and comfortable in their homes.',\n",
       " 'The Current Time is 21 :00 \\n\\nI will head to the housing area to check on the residents and make sure everything is secure. I want to make sure that the residents feel safe and comfortable in their homes.',\n",
       " \"The Current Time is 22 :00 \\n\\nI will head to the housing area to check on the residents and make sure everything is secure.\\n\\n<Information Given>\\n\\nTown Areas: dict\\\\_keys(['Town Square', 'Police Office', 'Supermarket', 'Village Park', 'City Hall', 'Coffee Shop', 'Housing Area', 'School'])\\nCurrent Location:\",\n",
       " \"The Current Time is 23 :00 \\n\\nI will head to the housing area to check on the residents and make sure everything is secure.\\n\\n<Information Given>\\n\\nTown Areas: dict\\\\_keys(['Town Square', 'Police Office', 'Supermarket', 'Village Park', 'City Hall', 'Coffee Shop', 'Housing Area', 'School'])\\nCurrent Location:\"]"
      ]
     },
     "execution_count": 8,
     "metadata": {},
     "output_type": "execute_result"
    }
   ],
   "source": [
    "jack = world.residents['Jack']\n",
    "tom = world.residents['Tom']\n",
    "# for i in jack.memory:\n",
    "#     print(i)\n",
    "jack.memory[-16:]"
   ]
  },
  {
   "cell_type": "code",
   "execution_count": 4,
   "id": "4e27161a",
   "metadata": {},
   "outputs": [
    {
     "data": {
      "text/plain": [
       "24"
      ]
     },
     "execution_count": 4,
     "metadata": {},
     "output_type": "execute_result"
    }
   ],
   "source": [
    "world.cur_time"
   ]
  },
  {
   "cell_type": "code",
   "execution_count": null,
   "id": "b67ecef6",
   "metadata": {},
   "outputs": [],
   "source": [
    "def calculate_sentence_similarity(memories, plans):\n",
    "    for name in plans.keys():\n",
    "        memory_summarization = generate(prompt_meta.format(summarize_prompt.format(name, memories[name])), model, tokenizer)\n",
    "        initial_plan = plans[name]\n",
    "        embedding_1= sentence_model.encode(memory_summarization, convert_to_tensor=True)\n",
    "        embedding_2 = sentence_model.encode(initial_plan, convert_to_tensor=True)\n",
    "        similarity_score = util.pytorch_cos_sim(embedding_1, embedding_2).tolist()[0][0]\n",
    "        print(\"The memory consistency score between intial plan and memory summary for {} is {}\".format(name, similarity_score))\n",
    "\n"
   ]
  },
  {
   "cell_type": "code",
   "execution_count": 9,
   "id": "c80be8af",
   "metadata": {},
   "outputs": [
    {
     "data": {
      "text/plain": [
       "'I plan to go to schhol\\nI want to sleep'"
      ]
     },
     "execution_count": 9,
     "metadata": {},
     "output_type": "execute_result"
    }
   ],
   "source": [
    "lst = [\"a\", \"I plan to go to schhol\", \"I want to sleep\"]\n",
    "\n",
    "\"\\n\".join(lst[1:])"
   ]
  },
  {
   "cell_type": "code",
   "execution_count": 12,
   "id": "d3179904",
   "metadata": {},
   "outputs": [
    {
     "data": {
      "text/plain": [
       "3"
      ]
     },
     "execution_count": 12,
     "metadata": {},
     "output_type": "execute_result"
    }
   ],
   "source": [
    "51 % 16"
   ]
  },
  {
   "cell_type": "code",
   "execution_count": null,
   "id": "cb50df77",
   "metadata": {},
   "outputs": [],
   "source": []
  }
 ],
 "metadata": {
  "kernelspec": {
   "display_name": "ga_kernel",
   "language": "python",
   "name": "ga_kernel"
  },
  "language_info": {
   "codemirror_mode": {
    "name": "ipython",
    "version": 3
   },
   "file_extension": ".py",
   "mimetype": "text/x-python",
   "name": "python",
   "nbconvert_exporter": "python",
   "pygments_lexer": "ipython3",
   "version": "3.9.12"
  }
 },
 "nbformat": 4,
 "nbformat_minor": 5
}
