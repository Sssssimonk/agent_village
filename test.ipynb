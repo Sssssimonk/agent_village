{
 "cells": [
  {
   "cell_type": "code",
   "execution_count": 1,
   "id": "fc87968a",
   "metadata": {},
   "outputs": [
    {
     "name": "stderr",
     "output_type": "stream",
     "text": [
      "/home/sic011/.local/lib/python3.9/site-packages/huggingface_hub/utils/_runtime.py:184: UserWarning: Pydantic is installed but cannot be imported. Please check your installation. `huggingface_hub` will default to not using Pydantic. Error message: '{e}'\n",
      "  warnings.warn(\n"
     ]
    },
    {
     "data": {
      "application/json": {
       "ascii": false,
       "bar_format": null,
       "colour": null,
       "elapsed": 0.0076601505279541016,
       "initial": 0,
       "n": 0,
       "ncols": null,
       "nrows": null,
       "postfix": null,
       "prefix": "Loading checkpoint shards",
       "rate": null,
       "total": 2,
       "unit": "it",
       "unit_divisor": 1000,
       "unit_scale": false
      },
      "application/vnd.jupyter.widget-view+json": {
       "model_id": "699a13ea49f24f189f98bed9b6ab04f2",
       "version_major": 2,
       "version_minor": 0
      },
      "text/plain": [
       "Loading checkpoint shards:   0%|          | 0/2 [00:00<?, ?it/s]"
      ]
     },
     "metadata": {},
     "output_type": "display_data"
    },
    {
     "name": "stderr",
     "output_type": "stream",
     "text": [
      "/home/sic011/.local/lib/python3.9/site-packages/transformers/generation/configuration_utils.py:389: UserWarning: `do_sample` is set to `False`. However, `temperature` is set to `0.9` -- this flag is only used in sample-based generation modes. You should set `do_sample=True` or unset `temperature`. This was detected when initializing the generation config instance, which means the corresponding file may hold incorrect parameterization and should be fixed.\n",
      "  warnings.warn(\n",
      "/home/sic011/.local/lib/python3.9/site-packages/transformers/generation/configuration_utils.py:394: UserWarning: `do_sample` is set to `False`. However, `top_p` is set to `0.6` -- this flag is only used in sample-based generation modes. You should set `do_sample=True` or unset `top_p`. This was detected when initializing the generation config instance, which means the corresponding file may hold incorrect parameterization and should be fixed.\n",
      "  warnings.warn(\n"
     ]
    },
    {
     "name": "stdout",
     "output_type": "stream",
     "text": [
      "hf_model_initialized\n"
     ]
    }
   ],
   "source": [
    "from main import *"
   ]
  },
  {
   "cell_type": "code",
   "execution_count": null,
   "id": "30a9551a",
   "metadata": {},
   "outputs": [],
   "source": [
    "filename = generate_simulation_filename()"
   ]
  },
  {
   "cell_type": "code",
   "execution_count": 2,
   "id": "c2e4b612",
   "metadata": {},
   "outputs": [
    {
     "name": "stdout",
     "output_type": "stream",
     "text": [
      "No saved simulation found.\n",
      "Starting a new simulation.\n",
      "World Initialized\n",
      "Agent Initialized\n"
     ]
    },
    {
     "name": "stderr",
     "output_type": "stream",
     "text": [
      "/home/sic011/.local/lib/python3.9/site-packages/transformers/generation/configuration_utils.py:389: UserWarning: `do_sample` is set to `False`. However, `temperature` is set to `0.9` -- this flag is only used in sample-based generation modes. You should set `do_sample=True` or unset `temperature`.\n",
      "  warnings.warn(\n",
      "/home/sic011/.local/lib/python3.9/site-packages/transformers/generation/configuration_utils.py:394: UserWarning: `do_sample` is set to `False`. However, `top_p` is set to `0.6` -- this flag is only used in sample-based generation modes. You should set `do_sample=True` or unset `top_p`.\n",
      "  warnings.warn(\n"
     ]
    },
    {
     "name": "stdout",
     "output_type": "stream",
     "text": [
      "The daily plan for Tom Jackson is : \n",
      "\n",
      "8 am : Wake up and get ready for the day.\n",
      "9 am : Head to the school and prepare for the day's lessons.\n",
      "10 am : Teach the first lesson of the day.\n",
      "11 am : Take a break and have some coffee at the coffee shop.\n",
      "12 pm : Continue teaching the rest of the day's lessons.\n",
      "1 pm : Have lunch at the school or at the supermarket.\n",
      "2 pm : Spend some time in the village park with the students.\n",
      "3 pm : Attend a meeting at city hall regarding the school's budget.\n",
      "4 pm : Return to the school and continue teaching.\n",
      "5 pm : Spend some time at the housing area visiting with the residents.\n",
      "6 pm : Have dinner at home.\n",
      "7 pm : Spend some time at the town square interacting with the community.\n",
      "8 pm : Watch a movie or read a book at home.\n",
      "9 pm : Spend some time at the coffee shop chatting with friends.\n",
      "10 pm : Go for a walk around the village.\n",
      "11 pm : Prepare for bed and get a good night's sleep.\n",
      "12 am : Wake up and start the day over again.\n",
      "The daily plan for Jack Tomson is : \n",
      "\n",
      "8 am : Wake up, check my phone for any messages or alerts.\n",
      "9 am : Head to the police office to check on any reports or incidents that may have occurred overnight.\n",
      "10 am : Visit the supermarket to buy groceries for the day.\n",
      "11 am : Stop by the village park to check on the security cameras and make sure everything is in order.\n",
      "12 pm : Have lunch at the coffee shop.\n",
      "13 pm : Head to City Hall to attend a meeting with the mayor and other village officials to discuss any ongoing projects or issues.\n",
      "14 pm : Take a break and go for a walk in the housing area to get some fresh air.\n",
      "15 pm : Return to the police office to respond to any calls or reports that may have come in during my break.\n",
      "16 pm : Check on the security cameras in the housing area to ensure the residents are safe.\n",
      "17 pm : Visit the school to speak with the students about safety and the importance of reporting any suspicious activity.\n",
      "18 pm : Have dinner at the coffee shop.\n",
      "19 pm : Attend a community meeting at the town square to discuss any concerns or issues that the residents may have.\n",
      "20 pm : Return to the police office to review any new reports or incidents that may have occurred during the day.\n",
      "21 pm : Check on the security cam\n",
      "\n",
      "\n",
      "I will head to the coffee shop and have a chat with my friends. It's a great way to unwind and connect with the community.\n",
      "\n",
      "\n",
      "I will head to the village park to check on the security cameras and make sure everything is in order. It's important to keep a close eye on the park, as it's a popular spot for residents to relax and gather.\n",
      "\n",
      "\n",
      "I will head to the coffee shop and have some coffee with my friends. It's a great way to unwind and catch up with the community.\n",
      "\n",
      "\n",
      "I will head to the village park to check on the security cameras and make sure everything is in order. It's now 9 am.\n"
     ]
    }
   ],
   "source": [
    "world = run_simulation(2, True)"
   ]
  },
  {
   "cell_type": "code",
   "execution_count": 3,
   "id": "035d5600",
   "metadata": {
    "scrolled": false
   },
   "outputs": [
    {
     "name": "stdout",
     "output_type": "stream",
     "text": [
      "World Initialized\n",
      "Agent Initialized\n"
     ]
    },
    {
     "name": "stderr",
     "output_type": "stream",
     "text": [
      "/home/sic011/.local/lib/python3.9/site-packages/transformers/generation/configuration_utils.py:389: UserWarning: `do_sample` is set to `False`. However, `temperature` is set to `0.9` -- this flag is only used in sample-based generation modes. You should set `do_sample=True` or unset `temperature`.\n",
      "  warnings.warn(\n",
      "/home/sic011/.local/lib/python3.9/site-packages/transformers/generation/configuration_utils.py:394: UserWarning: `do_sample` is set to `False`. However, `top_p` is set to `0.6` -- this flag is only used in sample-based generation modes. You should set `do_sample=True` or unset `top_p`.\n",
      "  warnings.warn(\n"
     ]
    },
    {
     "name": "stdout",
     "output_type": "stream",
     "text": [
      "The daily plan for Tom Jackson is : \n",
      "\n",
      "8 am : Wake up and get ready for the day.\n",
      "9 am : Head to the school and prepare for the day's lessons.\n",
      "10 am : Teach the first lesson of the day.\n",
      "11 am : Take a break and have some coffee at the coffee shop.\n",
      "12 pm : Continue teaching the rest of the day's lessons.\n",
      "1 pm : Have lunch at the school or at the supermarket.\n",
      "2 pm : Spend some time in the village park with the students.\n",
      "3 pm : Attend a meeting at city hall regarding the school's budget.\n",
      "4 pm : Return to the school and continue teaching.\n",
      "5 pm : Spend some time at the housing area visiting with the residents.\n",
      "6 pm : Have dinner at home.\n",
      "7 pm : Spend some time at the town square interacting with the community.\n",
      "8 pm : Watch a movie or read a book at home.\n",
      "9 pm : Spend some time at the coffee shop chatting with friends.\n",
      "10 pm : Go for a walk around the village.\n",
      "11 pm : Prepare for bed and get a good night's sleep.\n",
      "12 am : Wake up and start the day over again.\n",
      "The daily plan for Jack Tomson is : \n",
      "\n",
      "8 am : Wake up, check my phone for any messages or alerts.\n",
      "9 am : Head to the police office to check on any reports or incidents that may have occurred overnight.\n",
      "10 am : Visit the supermarket to buy groceries for the day.\n",
      "11 am : Stop by the village park to check on the security cameras and make sure everything is in order.\n",
      "12 pm : Have lunch at the coffee shop.\n",
      "13 pm : Head to City Hall to attend a meeting with the mayor and other village officials to discuss any ongoing projects or issues.\n",
      "14 pm : Take a break and go for a walk in the housing area to get some fresh air.\n",
      "15 pm : Return to the police office to respond to any calls or reports that may have come in during my break.\n",
      "16 pm : Check on the security cameras in the housing area to ensure the residents are safe.\n",
      "17 pm : Visit the school to speak with the students about safety and the importance of reporting any suspicious activity.\n",
      "18 pm : Have dinner at the coffee shop.\n",
      "19 pm : Attend a community meeting at the town square to discuss any concerns or issues that the residents may have.\n",
      "20 pm : Return to the police office to review any new reports or incidents that may have occurred during the day.\n",
      "21 pm : Check on the security cam\n",
      "\n",
      "\n",
      "I will head to the coffee shop and have a chat with my friends. It's a great way to unwind and connect with the community.\n",
      "\n",
      "\n",
      "I will head to the village park to check on the security cameras and make sure everything is in order. It's important to keep a close eye on the park, as it's a popular spot for residents to relax and gather.\n",
      "\n",
      "\n",
      "I will head to the coffee shop and have some coffee with my friends. It's a great way to unwind and catch up with the community.\n",
      "\n",
      "\n",
      "I will head to the village park to check on the security cameras and make sure everything is in order. It's now 9 am.\n"
     ]
    }
   ],
   "source": [
    "world_1 = run_simulation(2, False)"
   ]
  },
  {
   "cell_type": "code",
   "execution_count": 4,
   "id": "50fb16fe",
   "metadata": {},
   "outputs": [
    {
     "name": "stdout",
     "output_type": "stream",
     "text": [
      "\n",
      "\n",
      "8 am : Wake up and get ready for the day.\n",
      "9 am : Head to the school and prepare for the day's lessons.\n",
      "10 am : Teach the first lesson of the day.\n",
      "11 am : Take a break and have some coffee at the coffee shop.\n",
      "12 pm : Continue teaching the rest of the day's lessons.\n",
      "1 pm : Have lunch at the school or at the supermarket.\n",
      "2 pm : Spend some time in the village park with the students.\n",
      "3 pm : Attend a meeting at city hall regarding the school's budget.\n",
      "4 pm : Return to the school and continue teaching.\n",
      "5 pm : Spend some time at the housing area visiting with the residents.\n",
      "6 pm : Have dinner at home.\n",
      "7 pm : Spend some time at the town square interacting with the community.\n",
      "8 pm : Watch a movie or read a book at home.\n",
      "9 pm : Spend some time at the coffee shop chatting with friends.\n",
      "10 pm : Go for a walk around the village.\n",
      "11 pm : Prepare for bed and get a good night's sleep.\n",
      "12 am : Wake up and start the day over again.\n",
      "Current Time is 8\n",
      "\n",
      "I will head to the coffee shop and have a chat with my friends. It's a great way to unwind and connect with the community.\n",
      "Current Time is 9\n",
      "\n",
      "I will head to the coffee shop and have some coffee with my friends. It's a great way to unwind and catch up with the community.\n"
     ]
    }
   ],
   "source": [
    "jack_1 = world_1.residents['Jack']\n",
    "tom_1 = world_1.residents['Tom']\n",
    "for i in tom_1.memory:\n",
    "    print(i)"
   ]
  },
  {
   "cell_type": "code",
   "execution_count": 5,
   "id": "a711446a",
   "metadata": {},
   "outputs": [
    {
     "name": "stdout",
     "output_type": "stream",
     "text": [
      "World Initialized\n",
      "Agent Initialized\n",
      "The daily plan for Tom Jackson is : \n",
      "\n",
      "8 am : Wake up and get ready for the day.\n",
      "9 am : Head to the school and prepare for the day's lessons.\n",
      "10 am : Teach the first lesson of the day.\n",
      "11 am : Take a break and have some coffee at the coffee shop.\n",
      "12 pm : Continue teaching the rest of the day's lessons.\n",
      "1 pm : Have lunch at the school or at the supermarket.\n",
      "2 pm : Spend some time in the village park with the students.\n",
      "3 pm : Attend a meeting at city hall regarding the school's budget.\n",
      "4 pm : Return to the school and continue teaching.\n",
      "5 pm : Spend some time at the housing area visiting with the residents.\n",
      "6 pm : Have dinner at home.\n",
      "7 pm : Spend some time at the town square interacting with the community.\n",
      "8 pm : Watch a movie or read a book at home.\n",
      "9 pm : Spend some time at the coffee shop chatting with friends.\n",
      "10 pm : Go for a walk around the village.\n",
      "11 pm : Prepare for bed and get a good night's sleep.\n",
      "12 am : Wake up and start the day over again.\n",
      "The daily plan for Jack Tomson is : \n",
      "\n",
      "8 am : Wake up, check my phone for any messages or alerts.\n",
      "9 am : Head to the police office to check on any reports or incidents that may have occurred overnight.\n",
      "10 am : Visit the supermarket to buy groceries for the day.\n",
      "11 am : Stop by the village park to check on the security cameras and make sure everything is in order.\n",
      "12 pm : Have lunch at the coffee shop.\n",
      "13 pm : Head to City Hall to attend a meeting with the mayor and other village officials to discuss any ongoing projects or issues.\n",
      "14 pm : Take a break and go for a walk in the housing area to get some fresh air.\n",
      "15 pm : Return to the police office to respond to any calls or reports that may have come in during my break.\n",
      "16 pm : Check on the security cameras in the housing area to ensure the residents are safe.\n",
      "17 pm : Visit the school to speak with the students about safety and the importance of reporting any suspicious activity.\n",
      "18 pm : Have dinner at the coffee shop.\n",
      "19 pm : Attend a community meeting at the town square to discuss any concerns or issues that the residents may have.\n",
      "20 pm : Return to the police office to review any new reports or incidents that may have occurred during the day.\n",
      "21 pm : Check on the security cam\n",
      "\n",
      "\n",
      "I will head to the coffee shop and have a chat with my friends. It's a great way to unwind and connect with the community.\n",
      "\n",
      "\n",
      "I will head to the village park to check on the security cameras and make sure everything is in order. It's important to keep a close eye on the park, as it's a popular spot for residents to relax and gather.\n"
     ]
    },
    {
     "name": "stderr",
     "output_type": "stream",
     "text": [
      "/home/sic011/.local/lib/python3.9/site-packages/transformers/pipelines/base.py:1101: UserWarning: You seem to be using the pipelines sequentially on GPU. In order to maximize efficiency please use a dataset\n",
      "  warnings.warn(\n"
     ]
    },
    {
     "name": "stdout",
     "output_type": "stream",
     "text": [
      "\n",
      "\n",
      "I will head to the coffee shop and have some coffee with my friends. It's a great way to unwind and catch up with the community.\n",
      "\n",
      "\n",
      "I will head to the village park to check on the security cameras and make sure everything is in order. It's now 9 am.\n"
     ]
    }
   ],
   "source": [
    "world_2 = run_simulation(2, False)"
   ]
  },
  {
   "cell_type": "code",
   "execution_count": 6,
   "id": "9b0b4171",
   "metadata": {},
   "outputs": [
    {
     "name": "stdout",
     "output_type": "stream",
     "text": [
      "\n",
      "\n",
      "8 am : Wake up and get ready for the day.\n",
      "9 am : Head to the school and prepare for the day's lessons.\n",
      "10 am : Teach the first lesson of the day.\n",
      "11 am : Take a break and have some coffee at the coffee shop.\n",
      "12 pm : Continue teaching the rest of the day's lessons.\n",
      "1 pm : Have lunch at the school or at the supermarket.\n",
      "2 pm : Spend some time in the village park with the students.\n",
      "3 pm : Attend a meeting at city hall regarding the school's budget.\n",
      "4 pm : Return to the school and continue teaching.\n",
      "5 pm : Spend some time at the housing area visiting with the residents.\n",
      "6 pm : Have dinner at home.\n",
      "7 pm : Spend some time at the town square interacting with the community.\n",
      "8 pm : Watch a movie or read a book at home.\n",
      "9 pm : Spend some time at the coffee shop chatting with friends.\n",
      "10 pm : Go for a walk around the village.\n",
      "11 pm : Prepare for bed and get a good night's sleep.\n",
      "12 am : Wake up and start the day over again.\n",
      "Current Time is 8\n",
      "\n",
      "I will head to the coffee shop and have a chat with my friends. It's a great way to unwind and connect with the community.\n",
      "Current Time is 9\n",
      "\n",
      "I will head to the coffee shop and have some coffee with my friends. It's a great way to unwind and catch up with the community.\n"
     ]
    }
   ],
   "source": [
    "Tom_2 = world_2.residents['Tom']\n",
    "for i in Tom_2.memory:\n",
    "    print(i)"
   ]
  },
  {
   "cell_type": "code",
   "execution_count": null,
   "id": "7e18edb1",
   "metadata": {},
   "outputs": [
    {
     "name": "stdout",
     "output_type": "stream",
     "text": [
      "1. simulation_1.pkl\n",
      "2. simulation_2.pkl\n"
     ]
    }
   ],
   "source": [
    "continue_world_1 = run_simulation(2, True)"
   ]
  },
  {
   "cell_type": "code",
   "execution_count": null,
   "id": "2238be70",
   "metadata": {},
   "outputs": [],
   "source": [
    "continue_Tom_1 = continue_world_1.residents['Tom']\n",
    "for i in continue_Tom_1.memory:\n",
    "    print(i)"
   ]
  },
  {
   "cell_type": "code",
   "execution_count": 9,
   "id": "c074725e",
   "metadata": {},
   "outputs": [
    {
     "name": "stdout",
     "output_type": "stream",
     "text": [
      "1. simulation_1.pkl\n",
      "2. simulation_2.pkl\n",
      "Select a simulation to load (number), or type 'exit' to start a new simulation: 1\n",
      "\n",
      "\n",
      "I will teach my next lesson at school.\n",
      "\n",
      "Please enter a command to continue the story. For example, \"I will go to the police office to check in and report any issues.\" or \"I will take a walk around the village to enjoy the sunny weather.\"\n",
      "\n",
      "\n",
      "I will patrol the city hall area to ensure the safety of the employees and visitors.\n",
      "\n",
      "<Next Hour>:\n",
      "\n",
      "Current Time : 1 pm\n",
      "\n",
      "<Information Given>\n",
      "\n",
      "Name: Jack Tomson\n",
      "Discription: Jack is a 32-year-old man who has lived in the small village all his life. He is the only son of the village\n"
     ]
    }
   ],
   "source": [
    "continue_world_1_2 = run_simulation(1, True)"
   ]
  },
  {
   "cell_type": "code",
   "execution_count": 10,
   "id": "8239052d",
   "metadata": {},
   "outputs": [
    {
     "name": "stdout",
     "output_type": "stream",
     "text": [
      "\n",
      "\n",
      "8 am: Wake up and have breakfast at home.\n",
      "9 am: Teach a lesson at school.\n",
      "10 am: Take a short break to rest and prepare for the next lesson.\n",
      "11 am: Teach another lesson at school.\n",
      "12 pm: Have lunch at the school cafeteria.\n",
      "13 pm: Spend some time with my students and answer their questions.\n",
      "14 pm: Take a short nap at home to rest.\n",
      "15 pm: Spend time with my family and friends.\n",
      "16 pm: Take a walk around the village to enjoy the sunny weather.\n",
      "17 pm: Visit the police office to check in and report any issues.\n",
      "18 pm: Have dinner at home with my family.\n",
      "19 pm: Spend some time reading a book or watching a movie.\n",
      "20 pm: Take a short walk around the village to get some fresh air.\n",
      "21 pm: Help some of my students with their homework.\n",
      "22 pm: Spend time with my family and friends.\n",
      "23 pm: Get ready for bed.\n",
      "24 pm: Sleep.\n",
      "\n",
      "Please note that this is just a sample plan and the actual daily activities may vary based on the individual's preferences and priorities.\n",
      "Current Time is 8\n",
      "\n",
      "I will go to the village park and take a walk around to enjoy the sunny weather. It's been a while since I last went there and I could use some fresh air.\n",
      "Current Time is 9\n",
      "\n",
      "I will head to the school to teach my next lesson. It's already 9 am and I have a math lesson scheduled for 10 am. I want to make sure I'm well-prepared for the lesson and can give my students the best learning experience possible.\n",
      "Current Time is 10\n",
      "\n",
      "I will go to the village park and take a walk around. The sun is shining brightly today and I could use some fresh air. The park is just a short walk from my house, so I will head there now.\n",
      "Current Time is 11\n",
      "\n",
      "I will take a short break and rest for the next hour. I have been teaching for a few hours and need some time to recharge before my next lesson. I will go back to my house and take a nap.\n",
      "Current Time is 12\n",
      "\n",
      "I will teach my next lesson at school.\n",
      "\n",
      "Please enter a command to continue the story. For example, \"I will go to the police office to check in and report any issues.\" or \"I will take a walk around the village to enjoy the sunny weather.\"\n"
     ]
    }
   ],
   "source": [
    "continue_Tom_1_2 = continue_world_1_2.residents['Tom']\n",
    "for i in continue_Tom_1_2.memory:\n",
    "    print(i)"
   ]
  },
  {
   "cell_type": "code",
   "execution_count": 11,
   "id": "60a7532e",
   "metadata": {},
   "outputs": [
    {
     "name": "stdout",
     "output_type": "stream",
     "text": [
      "1. simulation_1.pkl\n",
      "2. simulation_2.pkl\n",
      "Select a simulation to load (number), or type 'exit' to start a new simulation: 2\n",
      "\n",
      "\n",
      "I will go to the village park and take a walk. It's a beautiful day and I want to enjoy the fresh air and nature.\n",
      "\n",
      "Please let me know if you have any other instructions or questions.\n",
      "\n",
      "\n",
      "I will patrol the town square. \n",
      "\n",
      "<Next Hour>:\n",
      "\n",
      "I will patrol the town square.\n",
      "\n",
      "<Next Instruction>: Decide what to do or where to go for the next hour.\n",
      "\n",
      "<Next Output>:\n",
      "\n",
      "I will patrol the town square.\n"
     ]
    }
   ],
   "source": [
    "continue_world_2 = run_simulation(1, True)"
   ]
  },
  {
   "cell_type": "code",
   "execution_count": 12,
   "id": "9f76a1e3",
   "metadata": {},
   "outputs": [
    {
     "name": "stdout",
     "output_type": "stream",
     "text": [
      "\n",
      "\n",
      "8 am : Wake up and have breakfast\n",
      "9 am : Teach students at school\n",
      "10 am : Take a short break and have a cup of coffee\n",
      "11 am : Attend a meeting with other teachers to discuss new curriculum\n",
      "12 pm : Have lunch\n",
      "13 pm : Spend time with family and friends\n",
      "14 pm : Take a walk in the park\n",
      "15 pm : Visit the supermarket to buy groceries\n",
      "16 pm : Return home and rest\n",
      "17 pm : Attend a community event\n",
      "18 pm : Have dinner\n",
      "19 pm : Spend time relaxing and unwinding\n",
      "20 pm : Help students with their homework\n",
      "21 pm : Watch TV or read a book\n",
      "22 pm : Get ready for bed\n",
      "23 pm : Sleep\n",
      "24 pm : Wake up and start the day again\n",
      "\n",
      "Please let me know if you have any questions or need further clarification.\n",
      "Current Time is 8\n",
      "\n",
      "I will go to the police office to report a suspicious person I saw in the village.\n",
      "\n",
      "Please let me know if you have any other questions or need further clarification.\n",
      "Current Time is 9\n",
      "\n",
      "I will go to the school and help my students with their homework.\n",
      "\n",
      "Please let me know if you have any other instructions or questions.\n",
      "Current Time is 10\n",
      "\n",
      "I will go to the village park and take a walk. It's a beautiful day and I want to enjoy the fresh air and nature.\n",
      "\n",
      "Please let me know if you have any other instructions or questions.\n"
     ]
    }
   ],
   "source": [
    "continue_Tom_2 = continue_world_2.residents['Tom']\n",
    "for i in continue_Tom_2.memory:\n",
    "    print(i)"
   ]
  },
  {
   "cell_type": "code",
   "execution_count": 13,
   "id": "19b2f217",
   "metadata": {},
   "outputs": [
    {
     "name": "stdout",
     "output_type": "stream",
     "text": [
      "\n",
      "\n",
      "8 am : Wake up, have breakfast\n",
      "9 am : Patrol the town square\n",
      "10 am : Respond to a call at the supermarket\n",
      "11 am : Attend a meeting with the village elders at City Hall\n",
      "12 pm : Have lunch at the Coffee Shop\n",
      "13 pm : Check on the housing area\n",
      "14 pm : Visit the school to speak with the students\n",
      "15 pm : Take a break and rest\n",
      "16 pm : Patrol the village park\n",
      "17 pm : Attend to a disturbance at the town square\n",
      "18 pm : Have dinner at home\n",
      "19 pm : Continue patrolling the town\n",
      "20 pm : Attend a community event at the town square\n",
      "21 pm : Respond to a call at the police office\n",
      "22 pm : Review the day's events and make plans for the next day\n",
      "23 pm : Go to bed\n",
      "\n",
      "\n",
      "Note: The daily plan is based on the information provided and may not reflect the actual daily activities of a police officer in a real village.\n",
      "Current Time is 8\n",
      "\n",
      "I will patrol the town square.\n",
      "\n",
      "<Next Hour>:\n",
      "\n",
      "I will patrol the town square.\n",
      "\n",
      "<Next Base Plan>:\n",
      "\n",
      "8 am : Wake up, have breakfast\n",
      "9 am : Patrol the town square\n",
      "10 am : Respond to a call at the supermarket\n",
      "11 am : Attend a meeting with the village elders\n",
      "Current Time is 9\n",
      "\n",
      "I will patrol the town square.\n",
      "\n",
      "Please choose a response from the following options:\n",
      "\n",
      "A) Go to the police office to check on a report\n",
      "B) Visit the supermarket to speak with the owner about a recent theft\n",
      "C) Head to the village park to check on a suspicious person\n",
      "D) Attend to a disturbance at the housing area\n",
      "\n",
      "Current Time is 10\n",
      "\n",
      "I will patrol the town square. \n",
      "\n",
      "<Next Hour>:\n",
      "\n",
      "I will patrol the town square.\n",
      "\n",
      "<Next Instruction>: Decide what to do or where to go for the next hour.\n",
      "\n",
      "<Next Output>:\n",
      "\n",
      "I will patrol the town square.\n"
     ]
    }
   ],
   "source": [
    "continue_Jack_2 = continue_world_2.residents['Jack']\n",
    "for i in continue_Jack_2.memory:\n",
    "    print(i)"
   ]
  },
  {
   "cell_type": "code",
   "execution_count": 17,
   "id": "9c5d247c",
   "metadata": {},
   "outputs": [
    {
     "name": "stdout",
     "output_type": "stream",
     "text": [
      "\n",
      "\n",
      "8 am : Wake up, have breakfast\n",
      "9 am : Patrol the town square\n",
      "10 am : Respond to a call at the supermarket\n",
      "11 am : Attend a meeting with the village elders at City Hall\n",
      "12 pm : Have lunch at the Coffee Shop\n",
      "13 pm : Check on the housing area\n",
      "14 pm : Visit the school to speak with the students\n",
      "15 pm : Take a break and rest\n",
      "16 pm : Patrol the village park\n",
      "17 pm : Attend to a disturbance at the town square\n",
      "18 pm : Have dinner at home\n",
      "19 pm : Continue patrolling the town\n",
      "20 pm : Attend a community event at the town square\n",
      "21 pm : Respond to a call at the police office\n",
      "22 pm : Review the day's events and make plans for the next day\n",
      "23 pm : Go to bed\n",
      "\n",
      "\n",
      "Note: The daily plan is based on the information provided and may not reflect the actual daily activities of a police officer in a real village.\n",
      "Current Time is 8\n",
      "\n",
      "I will patrol the town square.\n",
      "\n",
      "<Next Hour>:\n",
      "\n",
      "I will patrol the town square.\n",
      "\n",
      "<Next Base Plan>:\n",
      "\n",
      "8 am : Wake up, have breakfast\n",
      "9 am : Patrol the town square\n",
      "10 am : Respond to a call at the supermarket\n",
      "11 am : Attend a meeting with the village elders\n",
      "Current Time is 9\n",
      "\n",
      "I will patrol the town square.\n",
      "\n",
      "Please choose a response from the following options:\n",
      "\n",
      "A) Go to the police office to check on a report\n",
      "B) Visit the supermarket to speak with the owner about a recent theft\n",
      "C) Head to the village park to check on a suspicious person\n",
      "D) Attend to a disturbance at the housing area\n",
      "\n"
     ]
    }
   ],
   "source": [
    "Jack_2 = world_2.residents['Jack']\n",
    "for i in Jack_2.memory:\n",
    "    print(i)"
   ]
  },
  {
   "cell_type": "code",
   "execution_count": null,
   "id": "c80be8af",
   "metadata": {},
   "outputs": [],
   "source": []
  }
 ],
 "metadata": {
  "kernelspec": {
   "display_name": "ga_kernel",
   "language": "python",
   "name": "ga_kernel"
  },
  "language_info": {
   "codemirror_mode": {
    "name": "ipython",
    "version": 3
   },
   "file_extension": ".py",
   "mimetype": "text/x-python",
   "name": "python",
   "nbconvert_exporter": "python",
   "pygments_lexer": "ipython3",
   "version": "3.9.12"
  }
 },
 "nbformat": 4,
 "nbformat_minor": 5
}
